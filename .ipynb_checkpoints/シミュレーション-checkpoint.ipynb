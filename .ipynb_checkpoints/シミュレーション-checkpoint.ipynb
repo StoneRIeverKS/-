{
 "cells": [
  {
   "cell_type": "markdown",
   "metadata": {},
   "source": [
    "# 初期設定"
   ]
  },
  {
   "cell_type": "code",
   "execution_count": 8,
   "metadata": {
    "ExecuteTime": {
     "end_time": "2021-08-07T14:07:05.432149Z",
     "start_time": "2021-08-07T14:07:05.414985Z"
    }
   },
   "outputs": [],
   "source": [
    "#サンプルサイズ\n",
    "N = 10**3\n",
    "\n",
    "#共変量の次元数\n",
    "K = 4\n",
    "cov_list_str = [\"X1\", \"X2\", \"X3\", \"X4\"]\n",
    "\n",
    "#一様分布の範囲\n",
    "a, b = [-1, 0]\n",
    "\n",
    "#カーネル回帰のテストデータの割合\n",
    "size = 0.25"
   ]
  },
  {
   "cell_type": "markdown",
   "metadata": {},
   "source": [
    "# import"
   ]
  },
  {
   "cell_type": "code",
   "execution_count": 9,
   "metadata": {
    "ExecuteTime": {
     "end_time": "2021-08-07T14:07:06.890817Z",
     "start_time": "2021-08-07T14:07:06.874973Z"
    }
   },
   "outputs": [],
   "source": [
    "import numpy as np\n",
    "import pandas as pd\n",
    "import matplotlib.pyplot as plt\n",
    "\n",
    "\n",
    "#傾向スコアの推定\n",
    "from sklearn.linear_model import LogisticRegression\n",
    "\n",
    "#カーネル回帰\n",
    "from sklearn.kernel_ridge import KernelRidge\n",
    "#モデルの評価\n",
    "from sklearn.metrics import mean_squared_error\n",
    "\n",
    "from sklearn.model_selection import train_test_split\n",
    "\n",
    "import itertools"
   ]
  },
  {
   "cell_type": "markdown",
   "metadata": {},
   "source": [
    "# 汎用関数"
   ]
  },
  {
   "cell_type": "code",
   "execution_count": 10,
   "metadata": {
    "ExecuteTime": {
     "end_time": "2021-08-07T14:07:08.029609Z",
     "start_time": "2021-08-07T14:07:08.016259Z"
    }
   },
   "outputs": [],
   "source": [
    "#真の傾向スコアモデル\n",
    "def propensity_score(vec, coef = np.array([-1, -1, -1, -1])):\n",
    "    linear = vec*coef\n",
    "    return(1/(1+np.exp(np.sum(linear))))\n",
    "\n",
    "#真の結果変数\n",
    "def result(vec, coef = np.array([1, 2, 3, 4, 1])):\n",
    "    linear = vec*coef\n",
    "    return(np.sum(linear))"
   ]
  },
  {
   "cell_type": "markdown",
   "metadata": {},
   "source": [
    "# シミュレーションデータの発生"
   ]
  },
  {
   "cell_type": "code",
   "execution_count": 11,
   "metadata": {
    "ExecuteTime": {
     "end_time": "2021-08-07T14:07:09.528608Z",
     "start_time": "2021-08-07T14:07:09.165072Z"
    }
   },
   "outputs": [],
   "source": [
    "#シミュレーションデータ生成\n",
    "df = pd.DataFrame((b-a)*np.random.rand(N,K)+a, columns = cov_list_str)\n",
    "\n",
    "#真の傾向スコアの計算\n",
    "true_propensity_score = pd.DataFrame(df.apply(propensity_score, axis=1), columns = [\"true_propensity_score\"])\n",
    "\n",
    "#真の傾向スコアをもとのデータフレームにマージ\n",
    "df_true_ps = pd.merge(df, true_propensity_score, how=\"left\", left_index=True, right_index=True)\n",
    "\n",
    "#真の傾向スコアに基づき介入変数を乱数で発生させる\n",
    "treatment = pd.DataFrame([np.random.binomial(n=1, p=p) for p in true_propensity_score[\"true_propensity_score\"]], columns = [\"treatment_flg\"])\n",
    "\n",
    "#介入変数をもとのデータフレームにマージ\n",
    "df_treatment = pd.merge(df_true_ps, treatment, how=\"left\", left_index=True, right_index=True)\n",
    "\n",
    "#結果変数を計算\n",
    "Y = df_treatment[cov_list_str+[\"treatment_flg\"]].apply(result, axis=1)\n",
    "result_col = pd.DataFrame(Y, columns = [\"result\"])\n",
    "\n",
    "#結果変数をもとのデータフレームにマージ\n",
    "df_result = pd.merge(df_treatment, result_col, how=\"left\", left_index=True, right_index=True)"
   ]
  },
  {
   "cell_type": "code",
   "execution_count": 12,
   "metadata": {
    "ExecuteTime": {
     "end_time": "2021-08-07T14:07:09.777378Z",
     "start_time": "2021-08-07T14:07:09.740873Z"
    }
   },
   "outputs": [
    {
     "data": {
      "text/html": [
       "<div>\n",
       "<style scoped>\n",
       "    .dataframe tbody tr th:only-of-type {\n",
       "        vertical-align: middle;\n",
       "    }\n",
       "\n",
       "    .dataframe tbody tr th {\n",
       "        vertical-align: top;\n",
       "    }\n",
       "\n",
       "    .dataframe thead th {\n",
       "        text-align: right;\n",
       "    }\n",
       "</style>\n",
       "<table border=\"1\" class=\"dataframe\">\n",
       "  <thead>\n",
       "    <tr style=\"text-align: right;\">\n",
       "      <th></th>\n",
       "      <th>X1</th>\n",
       "      <th>X2</th>\n",
       "      <th>X3</th>\n",
       "      <th>X4</th>\n",
       "      <th>true_propensity_score</th>\n",
       "      <th>treatment_flg</th>\n",
       "    </tr>\n",
       "  </thead>\n",
       "  <tbody>\n",
       "    <tr>\n",
       "      <th>0</th>\n",
       "      <td>-0.475505</td>\n",
       "      <td>-0.553190</td>\n",
       "      <td>-0.020544</td>\n",
       "      <td>-0.788004</td>\n",
       "      <td>0.137378</td>\n",
       "      <td>0</td>\n",
       "    </tr>\n",
       "    <tr>\n",
       "      <th>1</th>\n",
       "      <td>-0.996234</td>\n",
       "      <td>-0.018541</td>\n",
       "      <td>-0.421702</td>\n",
       "      <td>-0.200623</td>\n",
       "      <td>0.162860</td>\n",
       "      <td>0</td>\n",
       "    </tr>\n",
       "    <tr>\n",
       "      <th>2</th>\n",
       "      <td>-0.569260</td>\n",
       "      <td>-0.815012</td>\n",
       "      <td>-0.340521</td>\n",
       "      <td>-0.312655</td>\n",
       "      <td>0.115327</td>\n",
       "      <td>0</td>\n",
       "    </tr>\n",
       "    <tr>\n",
       "      <th>3</th>\n",
       "      <td>-0.416775</td>\n",
       "      <td>-0.536554</td>\n",
       "      <td>-0.995135</td>\n",
       "      <td>-0.290684</td>\n",
       "      <td>0.096290</td>\n",
       "      <td>0</td>\n",
       "    </tr>\n",
       "    <tr>\n",
       "      <th>4</th>\n",
       "      <td>-0.644086</td>\n",
       "      <td>-0.553574</td>\n",
       "      <td>-0.793874</td>\n",
       "      <td>-0.094907</td>\n",
       "      <td>0.110422</td>\n",
       "      <td>1</td>\n",
       "    </tr>\n",
       "    <tr>\n",
       "      <th>...</th>\n",
       "      <td>...</td>\n",
       "      <td>...</td>\n",
       "      <td>...</td>\n",
       "      <td>...</td>\n",
       "      <td>...</td>\n",
       "      <td>...</td>\n",
       "    </tr>\n",
       "    <tr>\n",
       "      <th>995</th>\n",
       "      <td>-0.508739</td>\n",
       "      <td>-0.402857</td>\n",
       "      <td>-0.540871</td>\n",
       "      <td>-0.622928</td>\n",
       "      <td>0.111511</td>\n",
       "      <td>0</td>\n",
       "    </tr>\n",
       "    <tr>\n",
       "      <th>996</th>\n",
       "      <td>-0.940774</td>\n",
       "      <td>-0.558614</td>\n",
       "      <td>-0.776611</td>\n",
       "      <td>-0.764006</td>\n",
       "      <td>0.045651</td>\n",
       "      <td>0</td>\n",
       "    </tr>\n",
       "    <tr>\n",
       "      <th>997</th>\n",
       "      <td>-0.683469</td>\n",
       "      <td>-0.288261</td>\n",
       "      <td>-0.254304</td>\n",
       "      <td>-0.914877</td>\n",
       "      <td>0.105184</td>\n",
       "      <td>0</td>\n",
       "    </tr>\n",
       "    <tr>\n",
       "      <th>998</th>\n",
       "      <td>-0.190162</td>\n",
       "      <td>-0.562499</td>\n",
       "      <td>-0.883985</td>\n",
       "      <td>-0.371356</td>\n",
       "      <td>0.118365</td>\n",
       "      <td>0</td>\n",
       "    </tr>\n",
       "    <tr>\n",
       "      <th>999</th>\n",
       "      <td>-0.264131</td>\n",
       "      <td>-0.299077</td>\n",
       "      <td>-0.395938</td>\n",
       "      <td>-0.243242</td>\n",
       "      <td>0.231051</td>\n",
       "      <td>0</td>\n",
       "    </tr>\n",
       "  </tbody>\n",
       "</table>\n",
       "<p>1000 rows × 6 columns</p>\n",
       "</div>"
      ],
      "text/plain": [
       "           X1        X2        X3        X4  true_propensity_score  \\\n",
       "0   -0.475505 -0.553190 -0.020544 -0.788004               0.137378   \n",
       "1   -0.996234 -0.018541 -0.421702 -0.200623               0.162860   \n",
       "2   -0.569260 -0.815012 -0.340521 -0.312655               0.115327   \n",
       "3   -0.416775 -0.536554 -0.995135 -0.290684               0.096290   \n",
       "4   -0.644086 -0.553574 -0.793874 -0.094907               0.110422   \n",
       "..        ...       ...       ...       ...                    ...   \n",
       "995 -0.508739 -0.402857 -0.540871 -0.622928               0.111511   \n",
       "996 -0.940774 -0.558614 -0.776611 -0.764006               0.045651   \n",
       "997 -0.683469 -0.288261 -0.254304 -0.914877               0.105184   \n",
       "998 -0.190162 -0.562499 -0.883985 -0.371356               0.118365   \n",
       "999 -0.264131 -0.299077 -0.395938 -0.243242               0.231051   \n",
       "\n",
       "     treatment_flg  \n",
       "0                0  \n",
       "1                0  \n",
       "2                0  \n",
       "3                0  \n",
       "4                1  \n",
       "..             ...  \n",
       "995              0  \n",
       "996              0  \n",
       "997              0  \n",
       "998              0  \n",
       "999              0  \n",
       "\n",
       "[1000 rows x 6 columns]"
      ]
     },
     "execution_count": 12,
     "metadata": {},
     "output_type": "execute_result"
    }
   ],
   "source": [
    "df_treatment"
   ]
  },
  {
   "cell_type": "markdown",
   "metadata": {},
   "source": [
    "## シミュレーションデータの確認"
   ]
  },
  {
   "cell_type": "code",
   "execution_count": 13,
   "metadata": {
    "ExecuteTime": {
     "end_time": "2021-08-07T14:07:11.033845Z",
     "start_time": "2021-08-07T14:07:10.997360Z"
    }
   },
   "outputs": [
    {
     "name": "stdout",
     "output_type": "stream",
     "text": [
      "介入なしの結果変数の平均： -5.15916652692994\n",
      "介入ありの結果変数の平均： -3.3675198256214416\n",
      "RCTの介入なしの結果変数の平均： -5.044578423373307\n",
      "RCTの介入ありの結果変数の平均： -4.106048469902249\n",
      "セレクションバイアスが含まれた効果： 1.791646701308498\n",
      "RCTによる効果(真に近い効果)： 0.9385299534710576\n",
      "セレクションバイアス： 0.8531167478374404\n"
     ]
    }
   ],
   "source": [
    "#単純に介入の有無で結果変数の平均をとったもの\n",
    "simple_result0 = df_result.groupby(\"treatment_flg\").mean()[\"result\"][0]\n",
    "simple_result1 = df_result.groupby(\"treatment_flg\").mean()[\"result\"][1]\n",
    "\n",
    "#RCT\n",
    "##RCTで介入変数を決める\n",
    "RCT_treatment = pd.DataFrame(np.random.binomial(n=1, p=1/2, size=N), columns = [\"RCT_treatment_flg\"])\n",
    "##RCTの介入変数をもとのデータフレームにマージ\n",
    "RCT = pd.merge(df_result, RCT_treatment, how=\"left\", left_index=True, right_index=True)\n",
    "\n",
    "##RCTの場合の結果変数\n",
    "RCT_Y = 1*RCT[cov_list_str[0]]+2*RCT[cov_list_str[1]]+3*RCT[cov_list_str[2]]+4*RCT[cov_list_str[3]]+RCT[\"RCT_treatment_flg\"]\n",
    "RCT_Y_df = pd.DataFrame(RCT_Y, columns = [\"RCT_result\"])\n",
    "RCT_result = pd.merge(RCT, RCT_Y_df,  how=\"left\", left_index=True, right_index=True)\n",
    "\n",
    "\n",
    "##RCTで結果変数の平均をとったもの\n",
    "rct_result0 = RCT_result.groupby(\"RCT_treatment_flg\").mean()[\"RCT_result\"][0]\n",
    "rct_result1 = RCT_result.groupby(\"RCT_treatment_flg\").mean()[\"RCT_result\"][1]\n",
    "\n",
    "#指標のprint\n",
    "print(\"介入なしの結果変数の平均：\", simple_result0)\n",
    "print(\"介入ありの結果変数の平均：\", simple_result1)\n",
    "print(\"RCTの介入なしの結果変数の平均：\", rct_result0)\n",
    "print(\"RCTの介入ありの結果変数の平均：\", rct_result1)\n",
    "print(\"セレクションバイアスが含まれた効果：\", simple_result1-simple_result0)\n",
    "print(\"RCTによる効果(真に近い効果)：\", rct_result1-rct_result0)\n",
    "print(\"セレクションバイアス：\", (simple_result1-simple_result0)-(rct_result1-rct_result0))"
   ]
  },
  {
   "cell_type": "markdown",
   "metadata": {},
   "source": [
    "# 傾向スコアの推定\n",
    "GMMのpythonパッケージ\n",
    "statsmodels.sandbox.regression.gmm.GMM"
   ]
  },
  {
   "cell_type": "markdown",
   "metadata": {},
   "source": [
    "## ロジスティック回帰モデル"
   ]
  },
  {
   "cell_type": "code",
   "execution_count": 14,
   "metadata": {
    "ExecuteTime": {
     "end_time": "2021-08-07T14:07:12.703108Z",
     "start_time": "2021-08-07T14:07:12.658439Z"
    }
   },
   "outputs": [],
   "source": [
    "#ロジスティック回帰モデルのインスタンス作成\n",
    "lr = LogisticRegression()\n",
    "\n",
    "#ロジスティック回帰モデルの推定\n",
    "lr.fit(df_result[cov_list_str], df_result[\"treatment_flg\"])\n",
    "\n",
    "#推定された傾向スコア\n",
    "est_propensity_score = lr.predict_proba(df_result[cov_list_str])[:,1]\n",
    "\n",
    "#傾向スコアをもとのデータフレームにマージ\n",
    "df_estps = (\n",
    "    pd.merge(\n",
    "        df_result,\n",
    "        pd.DataFrame(est_propensity_score, columns = [\"est_propensity_score\"]),\n",
    "        how=\"left\",\n",
    "        left_index=True,\n",
    "        right_index=True)\n",
    ")"
   ]
  },
  {
   "cell_type": "markdown",
   "metadata": {},
   "source": [
    "# 共変量調整"
   ]
  },
  {
   "cell_type": "markdown",
   "metadata": {},
   "source": [
    "## 傾向スコアマッチング"
   ]
  },
  {
   "cell_type": "code",
   "execution_count": 15,
   "metadata": {
    "ExecuteTime": {
     "end_time": "2021-08-07T14:07:15.291362Z",
     "start_time": "2021-08-07T14:07:15.272912Z"
    }
   },
   "outputs": [],
   "source": [
    "#傾向スコアマッチング(最近傍マッチング)を実行するクラス\n",
    "class propensityScoreMatching:\n",
    "    #__init_で傾向スコアマッチングを行い、indexの組み合わせを取得する\n",
    "    def __init__(self, df, cov_list, z, ps, rs):\n",
    "        self.df = df\n",
    "        self.cov_list = cov_list\n",
    "        self.z = z\n",
    "        self.ps = ps\n",
    "        self.rs = rs\n",
    "        \n",
    "        \n",
    "        #介入の有無でデータフレームを分割\n",
    "        self.df0 = self.df[self.df[z] == 0]\n",
    "        self.df1 = self.df[self.df[z] == 1]\n",
    "        \n",
    "        #df0のindex取得\n",
    "        tmp_df0_index = self.df0[self.ps].index.values\n",
    "        #マッチング後のindexを入れる変数を定義(介入なし)\n",
    "        self.df0_index = np.empty(0, dtype=\"int64\")\n",
    "        #マッチング後のindexを定義(介入あり)\n",
    "        self.df1_index = self.df1[self.ps].index.values\n",
    "        \n",
    "        #最近傍マッチングで傾向スコアマッチング\n",
    "        for eps1 in self.df1[self.ps]:\n",
    "            #介入ありと介入なしの傾向スコアの差の絶対値を計算\n",
    "            abs_eps_list = [abs(eps1-eps0) for eps0 in self.df0[self.ps]]\n",
    "            #傾向スコアの差の絶対値が最小のindexを取得\n",
    "            min_index = tmp_df0_index[abs_eps_list.index(min(abs_eps_list))]\n",
    "            #マッチング後のindexを入れる\n",
    "            self.df0_index = np.append(self.df0_index, min_index)\n",
    "            \n",
    "    def get_effect(self):\n",
    "        #各群の結果変数の平均を取得\n",
    "        self.mean0 = np.average(self.df0.loc[self.df0_index][self.rs])  \n",
    "        self.mean1 = np.average(self.df1.loc[self.df1_index][self.rs])\n",
    "        \n",
    "        return (self.mean1-self.mean0)\n",
    "        \n",
    "    def compare_cov_mean_var(self):\n",
    "        #共変量調整後の共変量の平均\n",
    "        self.cov_mean0 = np.mean(self.df0[self.cov_list].loc[self.df0_index])\n",
    "        self.cov_mean1 = np.mean(self.df1[self.cov_list].loc[self.df1_index])\n",
    "        \n",
    "        #共変量調整後の共変量の分散\n",
    "        self.cov_var0 = np.var(self.df0[self.cov_list].loc[self.df0_index])\n",
    "        self.cov_var1 = np.var(self.df1[self.cov_list].loc[self.df1_index])\n",
    "             \n",
    "        #共変量調整前の共変量の平均\n",
    "        self.not_cov_mean0 = np.mean(self.df0[self.cov_list])\n",
    "        self.not_cov_mean1 = np.mean(self.df1[self.cov_list])\n",
    "        \n",
    "        #共変量調整前の共変量の分散\n",
    "        self.not_cov_var0 = np.var(self.df0[self.cov_list])\n",
    "        self.not_cov_var1 = np.var(self.df1[self.cov_list])\n",
    "        \n",
    "        #共変量調整後の共変量の平均の差\n",
    "        self.adjusted_abs_diff_mean = abs(self.cov_mean1-self.cov_mean0)\n",
    "        \n",
    "        #共変量調整後の共変量の分散の差\n",
    "        self.adjusted_abs_diff_var = abs(self.cov_var1-self.cov_var0)\n",
    "        \n",
    "        #共変量調整前の共変量の平均の差\n",
    "        self.not_adjusted_abs_diff_mean = abs(self.not_cov_mean1-self.not_cov_mean0)\n",
    "        \n",
    "        #共変量調整前の共変量の分散の差\n",
    "        self.not_adjusted_abs_diff_var = abs(self.not_cov_var1-self.not_cov_var0)\n",
    "        \n",
    "        \n",
    "        #作図\n",
    "        ##パラメータ\n",
    "        top = np.arange(len(self.adjusted_abs_diff_mean))\n",
    "        height = 0.3\n",
    "        ##作図関数\n",
    "        #plt.subplot(1, 2, 1)\n",
    "        plt.barh(top, self.adjusted_abs_diff_mean, label=\"adjusted\", height=0.3, align=\"edge\", zorder=10) \n",
    "        plt.barh(top+height, self.not_adjusted_abs_diff_mean, label=\"not adjusted\", height=0.3, align=\"edge\", zorder=10) \n",
    "        plt.yticks(top+height, self.adjusted_abs_diff_mean.index)\n",
    "        plt.vlines([0.1], ymin=0, ymax=len(self.adjusted_abs_diff_mean), linestyle = \"dashed\")\n",
    "        plt.ylim(0, len(self.adjusted_abs_diff_mean))\n",
    "        plt.xlabel(\"Absolute Mean Differences\")\n",
    "        plt.ylabel(\"Covariate Balance\")\n",
    "        plt.legend(bbox_to_anchor=(1, 1), loc='upper right', borderaxespad=0, fontsize=8)\n",
    "        \n",
    "        ##作図関数(分散まではあまり見られていないので一旦省略)\n",
    "        #plt.subplot(1, 2, 2)\n",
    "        #plt.barh(top, self.adjusted_abs_diff_var, label=\"adjusted\", height=0.3, align=\"edge\", zorder=10) \n",
    "        #plt.barh(top+height, self.not_adjusted_abs_diff_var, label=\"not adjusted\", height=0.3, align=\"edge\", zorder=10) \n",
    "        #plt.yticks(color=\"None\")\n",
    "        #plt.vlines([0.1], ymin=0, ymax=len(self.adjusted_abs_diff_var), linestyle = \"dashed\")\n",
    "        #plt.ylim(0, len(self.adjusted_abs_diff_var))\n",
    "        #plt.xlabel(\"Absolute Variance Differences\")\n",
    "        #plt.legend(bbox_to_anchor=(1, 1), loc='upper right', borderaxespad=0, fontsize=8)\n",
    "        \n",
    "    #def compare_cov_graph(self):"
   ]
  },
  {
   "cell_type": "code",
   "execution_count": 16,
   "metadata": {
    "ExecuteTime": {
     "end_time": "2021-08-07T14:07:16.132990Z",
     "start_time": "2021-08-07T14:07:16.082178Z"
    }
   },
   "outputs": [],
   "source": [
    "match_result = (\n",
    "    propensityScoreMatching(\n",
    "        df = df_estps,\n",
    "        cov_list = cov_list_str,\n",
    "        z = \"treatment_flg\",\n",
    "        ps = \"est_propensity_score\",\n",
    "        rs = \"result\")\n",
    ")"
   ]
  },
  {
   "cell_type": "code",
   "execution_count": 17,
   "metadata": {
    "ExecuteTime": {
     "end_time": "2021-08-07T14:07:16.709963Z",
     "start_time": "2021-08-07T14:07:16.687284Z"
    }
   },
   "outputs": [
    {
     "data": {
      "text/plain": [
       "1.0726462657193738"
      ]
     },
     "execution_count": 17,
     "metadata": {},
     "output_type": "execute_result"
    }
   ],
   "source": [
    "match_result.get_effect()"
   ]
  },
  {
   "cell_type": "code",
   "execution_count": 18,
   "metadata": {
    "ExecuteTime": {
     "end_time": "2021-08-07T14:07:17.486720Z",
     "start_time": "2021-08-07T14:07:17.284336Z"
    },
    "scrolled": true
   },
   "outputs": [
    {
     "data": {
      "image/png": "[encoded data removed]",
      "text/plain": [
       "<Figure size 432x288 with 1 Axes>"
      ]
     },
     "metadata": {
      "needs_background": "light"
     },
     "output_type": "display_data"
    }
   ],
   "source": [
    "match_result.compare_cov_mean_var()"
   ]
  },
  {
   "cell_type": "markdown",
   "metadata": {},
   "source": [
    "## IPW推定"
   ]
  },
  {
   "cell_type": "code",
   "execution_count": 19,
   "metadata": {
    "ExecuteTime": {
     "end_time": "2021-08-07T14:07:18.634054Z",
     "start_time": "2021-08-07T14:07:18.614961Z"
    }
   },
   "outputs": [],
   "source": [
    "#IPW推定量によって効果を算出するクラス\n",
    "class inverseProbbilityWeight:\n",
    "    #__init_でIPWを算出する\n",
    "    def __init__(self, df, cov_list, z, ps, rs):\n",
    "        self.df = df\n",
    "        self.cov_list = cov_list\n",
    "        self.z = z\n",
    "        self.ps = ps\n",
    "        self.rs = rs\n",
    "        \n",
    "        #介入の有無でデータフレームを分割\n",
    "        self.df0 = self.df[self.df[z] == 0]\n",
    "        self.df1 = self.df[self.df[z] == 1]\n",
    "        \n",
    "    def ipw(self, column):\n",
    "        ipw1 = np.sum((self.df1[self.z]*self.df1[column])/self.df1[self.ps])/np.sum(self.df1[self.z]/self.df1[self.ps])\n",
    "        ipw0 = np.sum(((1-self.df0[self.z])*self.df0[column])/(1-self.df0[self.ps]))/np.sum((1-self.df0[self.z])/(1-self.df0[self.ps]))       \n",
    "        \n",
    "        return(ipw1, ipw0)\n",
    "    \n",
    "    def get_effect(self):\n",
    "        #各群のIPW推定量を計算\n",
    "        self.ipw_mean1, self.ipw_mean0 = self.ipw(column=self.rs)\n",
    "               \n",
    "        return (self.ipw_mean1-self.ipw_mean0)\n",
    "        \n",
    "    def compare_cov_mean_var(self):\n",
    "        #共変量調整後の共変量の平均の差の絶対値\n",
    "        ipw_list = [self.ipw(cov) for cov in self.cov_list]\n",
    "        self.adjusted_abs_diff_mean = [abs(ipw1-ipw0) for ipw1, ipw0 in ipw_list]\n",
    "        \n",
    "        #共変量調整前の共変量の平均の差の絶対値          \n",
    "        ##共変量調整前の共変量の平均\n",
    "        self.not_cov_mean0 = np.mean(self.df0[self.cov_list])\n",
    "        self.not_cov_mean1 = np.mean(self.df1[self.cov_list])\n",
    "        ##差の絶対値\n",
    "        self.not_adjusted_abs_diff_mean = abs(self.not_cov_mean1-self.not_cov_mean0)\n",
    "        \n",
    "        #共変量調整前の共変量の分散の差\n",
    "        self.not_adjusted_abs_diff_mean = abs(self.not_cov_mean1-self.not_cov_mean0)\n",
    "        \n",
    "        #作図\n",
    "        ##パラメータ\n",
    "        top = np.arange(len(self.adjusted_abs_diff_mean))\n",
    "        height = 0.3\n",
    "        ##作図関数\n",
    "        #plt.subplot(1, 2, 1)\n",
    "        plt.barh(top, self.adjusted_abs_diff_mean, label=\"adjusted\", height=0.3, align=\"edge\", zorder=10) \n",
    "        plt.barh(top+height, self.not_adjusted_abs_diff_mean, label=\"not adjusted\", height=0.3, align=\"edge\", zorder=10) \n",
    "        plt.yticks(top+height, self.cov_list)\n",
    "        plt.vlines([0.1], ymin=0, ymax=len(self.adjusted_abs_diff_mean), linestyle = \"dashed\")\n",
    "        plt.ylim(0, len(self.adjusted_abs_diff_mean))\n",
    "        plt.xlabel(\"Absolute Mean Differences\")\n",
    "        plt.ylabel(\"Covariate Balance\")\n",
    "        plt.legend(bbox_to_anchor=(1, 1), loc='upper right', borderaxespad=0, fontsize=8)"
   ]
  },
  {
   "cell_type": "code",
   "execution_count": 20,
   "metadata": {
    "ExecuteTime": {
     "end_time": "2021-08-07T14:07:19.412182Z",
     "start_time": "2021-08-07T14:07:19.399582Z"
    }
   },
   "outputs": [],
   "source": [
    "ipw_result = (\n",
    "    inverseProbbilityWeight(\n",
    "        df = df_estps,\n",
    "        cov_list = cov_list_str,\n",
    "        z = \"treatment_flg\",\n",
    "        ps = \"est_propensity_score\",\n",
    "        rs = \"result\")\n",
    ")"
   ]
  },
  {
   "cell_type": "code",
   "execution_count": 21,
   "metadata": {
    "ExecuteTime": {
     "end_time": "2021-08-07T14:07:20.036871Z",
     "start_time": "2021-08-07T14:07:20.022834Z"
    }
   },
   "outputs": [
    {
     "data": {
      "text/plain": [
       "1.162219409957348"
      ]
     },
     "execution_count": 21,
     "metadata": {},
     "output_type": "execute_result"
    }
   ],
   "source": [
    "ipw_result.get_effect()"
   ]
  },
  {
   "cell_type": "code",
   "execution_count": 22,
   "metadata": {
    "ExecuteTime": {
     "end_time": "2021-08-07T14:07:20.833506Z",
     "start_time": "2021-08-07T14:07:20.663604Z"
    },
    "scrolled": true
   },
   "outputs": [
    {
     "data": {
      "image/png": "[encoded data removed]",
      "text/plain": [
       "<Figure size 432x288 with 1 Axes>"
      ]
     },
     "metadata": {
      "needs_background": "light"
     },
     "output_type": "display_data"
    }
   ],
   "source": [
    "ipw_result.compare_cov_mean_var()"
   ]
  },
  {
   "cell_type": "markdown",
   "metadata": {},
   "source": [
    "## カーネル回帰"
   ]
  },
  {
   "cell_type": "code",
   "execution_count": 23,
   "metadata": {
    "ExecuteTime": {
     "end_time": "2021-08-07T14:07:22.061693Z",
     "start_time": "2021-08-07T14:07:22.046563Z"
    }
   },
   "outputs": [],
   "source": [
    "#介入群と非介入群に分割する\n",
    "df_estps1 = df_estps[df_estps[\"treatment_flg\"] == 1]\n",
    "df_estps0 = df_estps[df_estps[\"treatment_flg\"] == 0]"
   ]
  },
  {
   "cell_type": "code",
   "execution_count": 24,
   "metadata": {
    "ExecuteTime": {
     "end_time": "2021-08-07T14:07:22.695467Z",
     "start_time": "2021-08-07T14:07:22.675417Z"
    }
   },
   "outputs": [],
   "source": [
    "df_estps0_train, df_estps0_test = train_test_split(df_estps0, test_size = size)"
   ]
  },
  {
   "cell_type": "markdown",
   "metadata": {},
   "source": [
    "## カーネルの定義"
   ]
  },
  {
   "cell_type": "code",
   "execution_count": 25,
   "metadata": {
    "ExecuteTime": {
     "end_time": "2021-08-07T14:07:24.034622Z",
     "start_time": "2021-08-07T14:07:24.028416Z"
    }
   },
   "outputs": [],
   "source": [
    "## ガウシアンカーネル\n",
    "def gaussianKernel(x, x_prime, width):\n",
    "    k = np.exp(- np.linalg.norm(x - x_prime)**2 / (2 * width**2))\n",
    "    return(k)\n",
    "\n",
    "##イパネクニコフ2次カーネル\n",
    "def epanechinikovKernel(x, x_prime, width):\n",
    "    t = abs(x-x_prime)/width\n",
    "    D = 3/4*(1-t**2) if abs(t) <= 1 else 0\n",
    "    return(D)"
   ]
  },
  {
   "cell_type": "markdown",
   "metadata": {},
   "source": [
    "## p次カーネル回帰"
   ]
  },
  {
   "cell_type": "code",
   "execution_count": 26,
   "metadata": {
    "ExecuteTime": {
     "end_time": "2021-08-07T14:07:25.538283Z",
     "start_time": "2021-08-07T14:07:25.521992Z"
    }
   },
   "outputs": [],
   "source": [
    "def localRegression(x, resvar, exvar, treatvar, df, kernel = \"gaussianKernel\", width = 0.1, dim = 1):\n",
    "    \n",
    "    #説明変数の行列作成\n",
    "    X = np.ones(len(df[exvar]))\n",
    "    for p in range(1, dim+1):\n",
    "        xp = df[exvar]**p\n",
    "        X = np.c_[X, xp]\n",
    "        \n",
    "    #カーネルが入った対角行列作成\n",
    "    if kernel == \"gaussianKernel\":\n",
    "        kernel_list = [(1-z_ele)*gaussianKernel(x, x_ele, width) for x_ele, z_ele in zip(df[exvar], df[treatvar])]\n",
    "    elif kernel == \"epanechinikovKernel\":\n",
    "        kernel_list = [(1-z_ele)*epanechinikovKernel(x, x_ele, width) for x_ele, z_ele in zip(df[exvar], df[treatvar])]\n",
    "    else:\n",
    "        print(\"please input kernel\")\n",
    "        return()\n",
    "    \n",
    "    W = np.diag(kernel_list)\n",
    "       \n",
    "    coef = np.linalg.inv((X.T)@W@X)@(X.T)@W@df[resvar]\n",
    "    predict = np.sum(coef*[x**p for p in range(0, dim+1)])\n",
    "    return(predict)"
   ]
  },
  {
   "cell_type": "code",
   "execution_count": 27,
   "metadata": {
    "ExecuteTime": {
     "end_time": "2021-08-07T14:08:49.031535Z",
     "start_time": "2021-08-07T14:07:26.251769Z"
    }
   },
   "outputs": [],
   "source": [
    "#対照群の訓練データを用いたモデルの作成とテストデータを用いた汎化性能の測定\n",
    "##パラメータの候補を設定\n",
    "kernel_list = [\"gaussianKernel\", \"epanechinikovKernel\"]\n",
    "width_list = np.arange(0.1, 1.0, 0.1)\n",
    "dim_list = list(range(2, 5))\n",
    "\n",
    "##パラメータの全列挙パターン作成\n",
    "param_list = itertools.product(kernel_list, width_list, dim_list)\n",
    "\n",
    "##各パラメータについてMSEを計算\n",
    "\n",
    "MSE_df = pd.DataFrame(columns=[\"kernel\", \"width\", \"dim\", \"MSE\"])\n",
    "for k, w, d, in param_list:\n",
    "    ##テストデータの予測値作成\n",
    "    predict_list = [\n",
    "        localRegression(x = x_ele,\n",
    "                        resvar = \"result\",\n",
    "                        exvar = \"est_propensity_score\",\n",
    "                        treatvar = \"treatment_flg\",\n",
    "                        df = df_estps0_train,\n",
    "                        kernel = k,\n",
    "                        width = w,\n",
    "                        dim = d)\n",
    "        for x_ele in df_estps0_test[\"est_propensity_score\"]\n",
    "    ]\n",
    "    \n",
    "    #テストデータの真の結果\n",
    "    result_list = df_estps0_test[\"result\"]\n",
    "    \n",
    "    #MSEをパラメータとともに保存\n",
    "    tmp_MSE = (\n",
    "        pd.DataFrame(\n",
    "            {\"kernel\" : [k],\n",
    "             \"width\" : w,\n",
    "             \"dim\" : d,\n",
    "             \"MSE\" : mean_squared_error(predict_list, result_list)\n",
    "            }\n",
    "        )\n",
    "    )\n",
    "    \n",
    "    MSE_df = MSE_df.append(tmp_MSE)"
   ]
  },
  {
   "cell_type": "code",
   "execution_count": 28,
   "metadata": {
    "ExecuteTime": {
     "end_time": "2021-08-07T14:08:49.048977Z",
     "start_time": "2021-08-07T14:08:49.032534Z"
    }
   },
   "outputs": [],
   "source": [
    "#MSEが最小のパラメータを出力\n",
    "min_params_df = MSE_df[MSE_df[\"MSE\"] == min(MSE_df[\"MSE\"])]"
   ]
  },
  {
   "cell_type": "code",
   "execution_count": 29,
   "metadata": {
    "ExecuteTime": {
     "end_time": "2021-08-07T14:08:49.077253Z",
     "start_time": "2021-08-07T14:08:49.053797Z"
    }
   },
   "outputs": [
    {
     "data": {
      "text/html": [
       "<div>\n",
       "<style scoped>\n",
       "    .dataframe tbody tr th:only-of-type {\n",
       "        vertical-align: middle;\n",
       "    }\n",
       "\n",
       "    .dataframe tbody tr th {\n",
       "        vertical-align: top;\n",
       "    }\n",
       "\n",
       "    .dataframe thead th {\n",
       "        text-align: right;\n",
       "    }\n",
       "</style>\n",
       "<table border=\"1\" class=\"dataframe\">\n",
       "  <thead>\n",
       "    <tr style=\"text-align: right;\">\n",
       "      <th></th>\n",
       "      <th>kernel</th>\n",
       "      <th>width</th>\n",
       "      <th>dim</th>\n",
       "      <th>MSE</th>\n",
       "    </tr>\n",
       "  </thead>\n",
       "  <tbody>\n",
       "    <tr>\n",
       "      <th>0</th>\n",
       "      <td>epanechinikovKernel</td>\n",
       "      <td>0.1</td>\n",
       "      <td>2</td>\n",
       "      <td>1.050308</td>\n",
       "    </tr>\n",
       "  </tbody>\n",
       "</table>\n",
       "</div>"
      ],
      "text/plain": [
       "                kernel  width dim       MSE\n",
       "0  epanechinikovKernel    0.1   2  1.050308"
      ]
     },
     "execution_count": 29,
     "metadata": {},
     "output_type": "execute_result"
    }
   ],
   "source": [
    "min_params_df"
   ]
  },
  {
   "cell_type": "code",
   "execution_count": 30,
   "metadata": {
    "ExecuteTime": {
     "end_time": "2021-08-07T14:08:49.636376Z",
     "start_time": "2021-08-07T14:08:49.079201Z"
    }
   },
   "outputs": [],
   "source": [
    "#選択されたモデルで介入群の介入がなかったときの結果変数を予測する\n",
    "predict_list = [\n",
    "    localRegression(x = x_ele,\n",
    "                    resvar = \"result\",\n",
    "                    exvar = \"est_propensity_score\",\n",
    "                    treatvar = \"treatment_flg\",\n",
    "                    df = df_estps0,\n",
    "                    kernel = min_params_df[\"kernel\"].item(),\n",
    "                    width = min_params_df[\"width\"].item(),\n",
    "                    dim = min_params_df[\"dim\"].item())\n",
    "    for x_ele in df_estps1[\"est_propensity_score\"]\n",
    "]"
   ]
  },
  {
   "cell_type": "code",
   "execution_count": 31,
   "metadata": {
    "ExecuteTime": {
     "end_time": "2021-08-07T14:08:49.652104Z",
     "start_time": "2021-08-07T14:08:49.637368Z"
    }
   },
   "outputs": [
    {
     "name": "stdout",
     "output_type": "stream",
     "text": [
      "カーネル回帰による因果効果の推定値：0.9648147176574334\n"
     ]
    }
   ],
   "source": [
    "#因果効果を測定する\n",
    "effect = np.mean(df_estps1[\"result\"]-predict_list)\n",
    "print(\"カーネル回帰による因果効果の推定値：{effect}\".format(effect=effect))"
   ]
  },
  {
   "cell_type": "markdown",
   "metadata": {},
   "source": [
    "# 繰り返しシミュレーション"
   ]
  },
  {
   "cell_type": "code",
   "execution_count": 32,
   "metadata": {
    "ExecuteTime": {
     "end_time": "2021-08-07T14:08:49.667236Z",
     "start_time": "2021-08-07T14:08:49.653602Z"
    }
   },
   "outputs": [],
   "source": [
    "#繰り返し実行する回数\n",
    "M = 10**2"
   ]
  },
  {
   "cell_type": "code",
   "execution_count": 33,
   "metadata": {
    "ExecuteTime": {
     "end_time": "2021-08-07T14:41:14.589676Z",
     "start_time": "2021-08-07T14:08:49.669166Z"
    }
   },
   "outputs": [
    {
     "ename": "LinAlgError",
     "evalue": "Singular matrix",
     "output_type": "error",
     "traceback": [
      "\u001b[1;31m---------------------------------------------------------------------------\u001b[0m",
      "\u001b[1;31mLinAlgError\u001b[0m                               Traceback (most recent call last)",
      "\u001b[1;32m<ipython-input-33-1539d733daae>\u001b[0m in \u001b[0;36m<module>\u001b[1;34m\u001b[0m\n\u001b[0;32m    125\u001b[0m     \u001b[1;32mfor\u001b[0m \u001b[0mk\u001b[0m\u001b[1;33m,\u001b[0m \u001b[0mw\u001b[0m\u001b[1;33m,\u001b[0m \u001b[0md\u001b[0m\u001b[1;33m,\u001b[0m \u001b[1;32min\u001b[0m \u001b[0mparam_list\u001b[0m\u001b[1;33m:\u001b[0m\u001b[1;33m\u001b[0m\u001b[1;33m\u001b[0m\u001b[0m\n\u001b[0;32m    126\u001b[0m         \u001b[1;31m##テストデータの予測値作成\u001b[0m\u001b[1;33m\u001b[0m\u001b[1;33m\u001b[0m\u001b[1;33m\u001b[0m\u001b[0m\n\u001b[1;32m--> 127\u001b[1;33m         predict_list = [\n\u001b[0m\u001b[0;32m    128\u001b[0m             localRegression(x = x_ele,\n\u001b[0;32m    129\u001b[0m                             \u001b[0mresvar\u001b[0m \u001b[1;33m=\u001b[0m \u001b[1;34m\"result\"\u001b[0m\u001b[1;33m,\u001b[0m\u001b[1;33m\u001b[0m\u001b[1;33m\u001b[0m\u001b[0m\n",
      "\u001b[1;32m<ipython-input-33-1539d733daae>\u001b[0m in \u001b[0;36m<listcomp>\u001b[1;34m(.0)\u001b[0m\n\u001b[0;32m    126\u001b[0m         \u001b[1;31m##テストデータの予測値作成\u001b[0m\u001b[1;33m\u001b[0m\u001b[1;33m\u001b[0m\u001b[1;33m\u001b[0m\u001b[0m\n\u001b[0;32m    127\u001b[0m         predict_list = [\n\u001b[1;32m--> 128\u001b[1;33m             localRegression(x = x_ele,\n\u001b[0m\u001b[0;32m    129\u001b[0m                             \u001b[0mresvar\u001b[0m \u001b[1;33m=\u001b[0m \u001b[1;34m\"result\"\u001b[0m\u001b[1;33m,\u001b[0m\u001b[1;33m\u001b[0m\u001b[1;33m\u001b[0m\u001b[0m\n\u001b[0;32m    130\u001b[0m                             \u001b[0mexvar\u001b[0m \u001b[1;33m=\u001b[0m \u001b[1;34m\"est_propensity_score\"\u001b[0m\u001b[1;33m,\u001b[0m\u001b[1;33m\u001b[0m\u001b[1;33m\u001b[0m\u001b[0m\n",
      "\u001b[1;32m<ipython-input-26-e2d563c27868>\u001b[0m in \u001b[0;36mlocalRegression\u001b[1;34m(x, resvar, exvar, treatvar, df, kernel, width, dim)\u001b[0m\n\u001b[0;32m     18\u001b[0m     \u001b[0mW\u001b[0m \u001b[1;33m=\u001b[0m \u001b[0mnp\u001b[0m\u001b[1;33m.\u001b[0m\u001b[0mdiag\u001b[0m\u001b[1;33m(\u001b[0m\u001b[0mkernel_list\u001b[0m\u001b[1;33m)\u001b[0m\u001b[1;33m\u001b[0m\u001b[1;33m\u001b[0m\u001b[0m\n\u001b[0;32m     19\u001b[0m \u001b[1;33m\u001b[0m\u001b[0m\n\u001b[1;32m---> 20\u001b[1;33m     \u001b[0mcoef\u001b[0m \u001b[1;33m=\u001b[0m \u001b[0mnp\u001b[0m\u001b[1;33m.\u001b[0m\u001b[0mlinalg\u001b[0m\u001b[1;33m.\u001b[0m\u001b[0minv\u001b[0m\u001b[1;33m(\u001b[0m\u001b[1;33m(\u001b[0m\u001b[0mX\u001b[0m\u001b[1;33m.\u001b[0m\u001b[0mT\u001b[0m\u001b[1;33m)\u001b[0m\u001b[1;33m@\u001b[0m\u001b[0mW\u001b[0m\u001b[1;33m@\u001b[0m\u001b[0mX\u001b[0m\u001b[1;33m)\u001b[0m\u001b[1;33m@\u001b[0m\u001b[1;33m(\u001b[0m\u001b[0mX\u001b[0m\u001b[1;33m.\u001b[0m\u001b[0mT\u001b[0m\u001b[1;33m)\u001b[0m\u001b[1;33m@\u001b[0m\u001b[0mW\u001b[0m\u001b[1;33m@\u001b[0m\u001b[0mdf\u001b[0m\u001b[1;33m[\u001b[0m\u001b[0mresvar\u001b[0m\u001b[1;33m]\u001b[0m\u001b[1;33m\u001b[0m\u001b[1;33m\u001b[0m\u001b[0m\n\u001b[0m\u001b[0;32m     21\u001b[0m     \u001b[0mpredict\u001b[0m \u001b[1;33m=\u001b[0m \u001b[0mnp\u001b[0m\u001b[1;33m.\u001b[0m\u001b[0msum\u001b[0m\u001b[1;33m(\u001b[0m\u001b[0mcoef\u001b[0m\u001b[1;33m*\u001b[0m\u001b[1;33m[\u001b[0m\u001b[0mx\u001b[0m\u001b[1;33m**\u001b[0m\u001b[0mp\u001b[0m \u001b[1;32mfor\u001b[0m \u001b[0mp\u001b[0m \u001b[1;32min\u001b[0m \u001b[0mrange\u001b[0m\u001b[1;33m(\u001b[0m\u001b[1;36m0\u001b[0m\u001b[1;33m,\u001b[0m \u001b[0mdim\u001b[0m\u001b[1;33m+\u001b[0m\u001b[1;36m1\u001b[0m\u001b[1;33m)\u001b[0m\u001b[1;33m]\u001b[0m\u001b[1;33m)\u001b[0m\u001b[1;33m\u001b[0m\u001b[1;33m\u001b[0m\u001b[0m\n\u001b[0;32m     22\u001b[0m     \u001b[1;32mreturn\u001b[0m\u001b[1;33m(\u001b[0m\u001b[0mpredict\u001b[0m\u001b[1;33m)\u001b[0m\u001b[1;33m\u001b[0m\u001b[1;33m\u001b[0m\u001b[0m\n",
      "\u001b[1;32m<__array_function__ internals>\u001b[0m in \u001b[0;36minv\u001b[1;34m(*args, **kwargs)\u001b[0m\n",
      "\u001b[1;32mC:\\ProgramData\\Anaconda3\\lib\\site-packages\\numpy\\linalg\\linalg.py\u001b[0m in \u001b[0;36minv\u001b[1;34m(a)\u001b[0m\n\u001b[0;32m    544\u001b[0m     \u001b[0msignature\u001b[0m \u001b[1;33m=\u001b[0m \u001b[1;34m'D->D'\u001b[0m \u001b[1;32mif\u001b[0m \u001b[0misComplexType\u001b[0m\u001b[1;33m(\u001b[0m\u001b[0mt\u001b[0m\u001b[1;33m)\u001b[0m \u001b[1;32melse\u001b[0m \u001b[1;34m'd->d'\u001b[0m\u001b[1;33m\u001b[0m\u001b[1;33m\u001b[0m\u001b[0m\n\u001b[0;32m    545\u001b[0m     \u001b[0mextobj\u001b[0m \u001b[1;33m=\u001b[0m \u001b[0mget_linalg_error_extobj\u001b[0m\u001b[1;33m(\u001b[0m\u001b[0m_raise_linalgerror_singular\u001b[0m\u001b[1;33m)\u001b[0m\u001b[1;33m\u001b[0m\u001b[1;33m\u001b[0m\u001b[0m\n\u001b[1;32m--> 546\u001b[1;33m     \u001b[0mainv\u001b[0m \u001b[1;33m=\u001b[0m \u001b[0m_umath_linalg\u001b[0m\u001b[1;33m.\u001b[0m\u001b[0minv\u001b[0m\u001b[1;33m(\u001b[0m\u001b[0ma\u001b[0m\u001b[1;33m,\u001b[0m \u001b[0msignature\u001b[0m\u001b[1;33m=\u001b[0m\u001b[0msignature\u001b[0m\u001b[1;33m,\u001b[0m \u001b[0mextobj\u001b[0m\u001b[1;33m=\u001b[0m\u001b[0mextobj\u001b[0m\u001b[1;33m)\u001b[0m\u001b[1;33m\u001b[0m\u001b[1;33m\u001b[0m\u001b[0m\n\u001b[0m\u001b[0;32m    547\u001b[0m     \u001b[1;32mreturn\u001b[0m \u001b[0mwrap\u001b[0m\u001b[1;33m(\u001b[0m\u001b[0mainv\u001b[0m\u001b[1;33m.\u001b[0m\u001b[0mastype\u001b[0m\u001b[1;33m(\u001b[0m\u001b[0mresult_t\u001b[0m\u001b[1;33m,\u001b[0m \u001b[0mcopy\u001b[0m\u001b[1;33m=\u001b[0m\u001b[1;32mFalse\u001b[0m\u001b[1;33m)\u001b[0m\u001b[1;33m)\u001b[0m\u001b[1;33m\u001b[0m\u001b[1;33m\u001b[0m\u001b[0m\n\u001b[0;32m    548\u001b[0m \u001b[1;33m\u001b[0m\u001b[0m\n",
      "\u001b[1;32mC:\\ProgramData\\Anaconda3\\lib\\site-packages\\numpy\\linalg\\linalg.py\u001b[0m in \u001b[0;36m_raise_linalgerror_singular\u001b[1;34m(err, flag)\u001b[0m\n\u001b[0;32m     86\u001b[0m \u001b[1;33m\u001b[0m\u001b[0m\n\u001b[0;32m     87\u001b[0m \u001b[1;32mdef\u001b[0m \u001b[0m_raise_linalgerror_singular\u001b[0m\u001b[1;33m(\u001b[0m\u001b[0merr\u001b[0m\u001b[1;33m,\u001b[0m \u001b[0mflag\u001b[0m\u001b[1;33m)\u001b[0m\u001b[1;33m:\u001b[0m\u001b[1;33m\u001b[0m\u001b[1;33m\u001b[0m\u001b[0m\n\u001b[1;32m---> 88\u001b[1;33m     \u001b[1;32mraise\u001b[0m \u001b[0mLinAlgError\u001b[0m\u001b[1;33m(\u001b[0m\u001b[1;34m\"Singular matrix\"\u001b[0m\u001b[1;33m)\u001b[0m\u001b[1;33m\u001b[0m\u001b[1;33m\u001b[0m\u001b[0m\n\u001b[0m\u001b[0;32m     89\u001b[0m \u001b[1;33m\u001b[0m\u001b[0m\n\u001b[0;32m     90\u001b[0m \u001b[1;32mdef\u001b[0m \u001b[0m_raise_linalgerror_nonposdef\u001b[0m\u001b[1;33m(\u001b[0m\u001b[0merr\u001b[0m\u001b[1;33m,\u001b[0m \u001b[0mflag\u001b[0m\u001b[1;33m)\u001b[0m\u001b[1;33m:\u001b[0m\u001b[1;33m\u001b[0m\u001b[1;33m\u001b[0m\u001b[0m\n",
      "\u001b[1;31mLinAlgError\u001b[0m: Singular matrix"
     ]
    }
   ],
   "source": [
    "#結果を入れておくためのリスト\n",
    "##見かけの結果\n",
    "bias_rs_list = []\n",
    "\n",
    "##セレクションバイアス\n",
    "selection_bias_list = []\n",
    "\n",
    "##傾向スコアマッチング\n",
    "match_rs_list = []\n",
    "##IPW推定量\n",
    "ipw_rs_list = []\n",
    "#カーネル回帰\n",
    "kernel_rs_list = []\n",
    "\n",
    "\n",
    "for m in range(0, M):\n",
    "    \n",
    "    #シミュレーションデータ生成\n",
    "    df = pd.DataFrame((b-a)*np.random.rand(N,K)+a, columns = cov_list_str)\n",
    "\n",
    "    #真の傾向スコアの計算\n",
    "    true_propensity_score = pd.DataFrame(df.apply(propensity_score, axis=1), columns = [\"true_propensity_score\"])\n",
    "\n",
    "    #真の傾向スコアをもとのデータフレームにマージ\n",
    "    df_true_ps = pd.merge(df, true_propensity_score, how=\"left\", left_index=True, right_index=True)\n",
    "\n",
    "    #真の傾向スコアに基づき介入変数を乱数で発生させる\n",
    "    treatment = pd.DataFrame([np.random.binomial(n=1, p=p) for p in true_propensity_score[\"true_propensity_score\"]], columns = [\"treatment_flg\"])\n",
    "\n",
    "    #介入変数をもとのデータフレームにマージ\n",
    "    df_treatment = pd.merge(df_true_ps, treatment, how=\"left\", left_index=True, right_index=True)\n",
    "\n",
    "    #結果変数を計算\n",
    "    Y = df_treatment[cov_list_str+[\"treatment_flg\"]].apply(result, axis=1)\n",
    "    result_col = pd.DataFrame(Y, columns = [\"result\"])\n",
    "\n",
    "    #結果変数をもとのデータフレームにマージ\n",
    "    df_result = pd.merge(df_treatment, result_col, how=\"left\", left_index=True, right_index=True)\n",
    "    \n",
    "    \n",
    "    #単純に介入の有無で結果変数の平均をとったもの\n",
    "    simple_result0 = df_result.groupby(\"treatment_flg\").mean()[\"result\"][0]\n",
    "    simple_result1 = df_result.groupby(\"treatment_flg\").mean()[\"result\"][1]\n",
    "\n",
    "    #RCT\n",
    "    ##RCTで介入変数を決める\n",
    "    RCT_treatment = pd.DataFrame(np.random.binomial(n=1, p=1/2, size=N), columns = [\"RCT_treatment_flg\"])\n",
    "    ##RCTの介入変数をもとのデータフレームにマージ\n",
    "    RCT = pd.merge(df_result, RCT_treatment, how=\"left\", left_index=True, right_index=True)\n",
    "\n",
    "    ##RCTの場合の結果変数\n",
    "    RCT_Y = 1*RCT[cov_list_str[0]]+2*RCT[cov_list_str[1]]+3*RCT[cov_list_str[2]]+4*RCT[cov_list_str[3]]+RCT[\"RCT_treatment_flg\"]\n",
    "    RCT_Y_df = pd.DataFrame(RCT_Y, columns = [\"RCT_result\"])\n",
    "    RCT_result = pd.merge(RCT, RCT_Y_df,  how=\"left\", left_index=True, right_index=True)\n",
    "\n",
    "\n",
    "    ##RCTで結果変数の平均をとったもの\n",
    "    rct_result0 = RCT_result.groupby(\"RCT_treatment_flg\").mean()[\"RCT_result\"][0]\n",
    "    rct_result1 = RCT_result.groupby(\"RCT_treatment_flg\").mean()[\"RCT_result\"][1]\n",
    "\n",
    "    #指標のprint\n",
    "    bias_rs_list.append(simple_result1-simple_result0)\n",
    "    ##セレクションバイアス\n",
    "    selection_bias_list.append((simple_result1-simple_result0)-(rct_result1-rct_result0))\n",
    "\n",
    "    #ロジスティック回帰モデルのインスタンス作成\n",
    "    lr = LogisticRegression()\n",
    "\n",
    "    #ロジスティック回帰モデルの推定\n",
    "    lr.fit(df_result[cov_list_str], df_result[\"treatment_flg\"])\n",
    "\n",
    "    #推定された傾向スコア\n",
    "    est_propensity_score = lr.predict_proba(df_result[cov_list_str])[:,1]\n",
    "\n",
    "    #傾向スコアをもとのデータフレームにマージ\n",
    "    df_estps = (\n",
    "        pd.merge(\n",
    "            df_result,\n",
    "            pd.DataFrame(est_propensity_score, columns = [\"est_propensity_score\"]),\n",
    "            how=\"left\",\n",
    "            left_index=True,\n",
    "            right_index=True)\n",
    "    )\n",
    "\n",
    "    #傾向スコアマッチングの実行\n",
    "    match_result = (\n",
    "        propensityScoreMatching(\n",
    "            df = df_estps,\n",
    "            cov_list = cov_list_str,\n",
    "            z = \"treatment_flg\",\n",
    "            ps = \"est_propensity_score\",\n",
    "            rs = \"result\")\n",
    "    )\n",
    "\n",
    "    #IPW推定量の計算\n",
    "    ipw_result = (\n",
    "        inverseProbbilityWeight(\n",
    "            df = df_estps,\n",
    "            cov_list = cov_list_str,\n",
    "            z = \"treatment_flg\",\n",
    "            ps = \"est_propensity_score\",\n",
    "            rs = \"result\")\n",
    "    )\n",
    "\n",
    "    #カーネル回帰\n",
    "    #介入群と非介入群に分割する\n",
    "    df_estps1 = df_estps[df_estps[\"treatment_flg\"] == 1]\n",
    "    df_estps0 = df_estps[df_estps[\"treatment_flg\"] == 0]\n",
    "\n",
    "    #汎化性能測定のための分割\n",
    "    df_estps0_train, df_estps0_test = train_test_split(df_estps0, test_size = size)\n",
    "\n",
    "    #対照群の訓練データを用いたモデルの作成とテストデータを用いた汎化性能の測定\n",
    "    ##パラメータの候補を設定\n",
    "    kernel_list = [\"gaussianKernel\", \"epanechinikovKernel\"]\n",
    "    width_list = np.arange(0.1, 1.0, 0.1)\n",
    "    dim_list = list(range(2, 5))\n",
    "\n",
    "    ##パラメータの全列挙パターン作成\n",
    "    param_list = itertools.product(kernel_list, width_list, dim_list)\n",
    "\n",
    "    ##各パラメータについてMSEを計算\n",
    "\n",
    "    MSE_df = pd.DataFrame(columns=[\"kernel\", \"width\", \"dim\", \"MSE\"])\n",
    "    for k, w, d, in param_list:\n",
    "        ##テストデータの予測値作成\n",
    "        predict_list = [\n",
    "            localRegression(x = x_ele,\n",
    "                            resvar = \"result\",\n",
    "                            exvar = \"est_propensity_score\",\n",
    "                            treatvar = \"treatment_flg\",\n",
    "                            df = df_estps0_train,\n",
    "                            kernel = k,\n",
    "                            width = w,\n",
    "                            dim = d)\n",
    "            for x_ele in df_estps0_test[\"est_propensity_score\"]\n",
    "        ]\n",
    "\n",
    "        #テストデータの真の結果\n",
    "        result_list = df_estps0_test[\"result\"]\n",
    "\n",
    "        #MSEをパラメータとともに保存\n",
    "        tmp_MSE = (\n",
    "            pd.DataFrame(\n",
    "                {\"kernel\" : [k],\n",
    "                 \"width\" : w,\n",
    "                 \"dim\" : d,\n",
    "                 \"MSE\" : mean_squared_error(predict_list, result_list)\n",
    "                }\n",
    "            )\n",
    "        )\n",
    "\n",
    "        MSE_df = MSE_df.append(tmp_MSE)\n",
    "\n",
    "    #MSEが最小のパラメータを出力\n",
    "    min_params_df = MSE_df[MSE_df[\"MSE\"] == min(MSE_df[\"MSE\"])]\n",
    "\n",
    "    #選択されたモデルで介入群の介入がなかったときの結果変数を予測する\n",
    "    predict_list = [\n",
    "        localRegression(x = x_ele,\n",
    "                        resvar = \"result\",\n",
    "                        exvar = \"est_propensity_score\",\n",
    "                        treatvar = \"treatment_flg\",\n",
    "                        df = df_estps0,\n",
    "                        kernel = min_params_df[\"kernel\"].item(),\n",
    "                        width = min_params_df[\"width\"].item(),\n",
    "                        dim = min_params_df[\"dim\"].item())\n",
    "        for x_ele in df_estps1[\"est_propensity_score\"]\n",
    "    ]\n",
    "\n",
    "    #結果の記録\n",
    "    ##傾向スコアマッチング\n",
    "    match_rs_list.append(match_result.get_effect())\n",
    "\n",
    "    ##IPW推定量\n",
    "    ipw_rs_list.append(ipw_result.get_effect())\n",
    "\n",
    "    #カーネル回帰\n",
    "    kernel_rs_list.append(np.mean(df_estps1[\"result\"]-predict_list))"
   ]
  },
  {
   "cell_type": "code",
   "execution_count": null,
   "metadata": {
    "ExecuteTime": {
     "end_time": "2021-08-07T14:41:14.591673Z",
     "start_time": "2021-08-07T14:07:33.917Z"
    }
   },
   "outputs": [],
   "source": [
    "plt.hist(match_rs_list, range = [0.8, 1.4])"
   ]
  },
  {
   "cell_type": "code",
   "execution_count": null,
   "metadata": {
    "ExecuteTime": {
     "end_time": "2021-08-07T14:41:14.593438Z",
     "start_time": "2021-08-07T14:07:34.671Z"
    }
   },
   "outputs": [],
   "source": [
    "#平均と分散\n",
    "print(\"平均:\", np.mean(match_rs_list))\n",
    "print(\"分散:\", np.var(match_rs_list))\n",
    "print(\"MSE:\", mean_squared_error(match_rs_list, np.ones(M)))"
   ]
  },
  {
   "cell_type": "code",
   "execution_count": null,
   "metadata": {
    "ExecuteTime": {
     "end_time": "2021-08-07T14:41:14.594460Z",
     "start_time": "2021-08-07T14:07:35.394Z"
    }
   },
   "outputs": [],
   "source": [
    "plt.hist(ipw_rs_list, range = [0.8, 1.4])"
   ]
  },
  {
   "cell_type": "code",
   "execution_count": null,
   "metadata": {
    "ExecuteTime": {
     "end_time": "2021-08-07T14:41:14.596583Z",
     "start_time": "2021-08-07T14:07:36.032Z"
    }
   },
   "outputs": [],
   "source": [
    "#平均と分散\n",
    "print(\"平均:\", np.mean(ipw_rs_list))\n",
    "print(\"分散:\", np.var(ipw_rs_list))\n",
    "print(\"MSE:\", mean_squared_error(ipw_rs_list, np.ones(M)))"
   ]
  },
  {
   "cell_type": "code",
   "execution_count": null,
   "metadata": {
    "ExecuteTime": {
     "end_time": "2021-08-07T14:41:14.597749Z",
     "start_time": "2021-08-07T14:07:36.634Z"
    }
   },
   "outputs": [],
   "source": [
    "plt.hist(kernel_rs_list, range = [0.8, 1.4])"
   ]
  },
  {
   "cell_type": "code",
   "execution_count": null,
   "metadata": {
    "ExecuteTime": {
     "end_time": "2021-08-07T14:41:14.598666Z",
     "start_time": "2021-08-07T14:07:37.259Z"
    }
   },
   "outputs": [],
   "source": [
    "#平均と分散\n",
    "print(\"平均:\", np.mean(kernel_rs_list))\n",
    "print(\"分散:\", np.var(kernel_rs_list))\n",
    "print(\"MSE:\", mean_squared_error(kernel_rs_list, np.ones(M)))"
   ]
  },
  {
   "cell_type": "code",
   "execution_count": null,
   "metadata": {
    "ExecuteTime": {
     "end_time": "2021-08-07T14:41:14.599442Z",
     "start_time": "2021-08-07T14:07:37.867Z"
    }
   },
   "outputs": [],
   "source": [
    "print(abs(1-1.0103771441257339))\n",
    "print(abs(1-1.0876692624540565))\n",
    "print(abs(1- 0.998356645205422))"
   ]
  }
 ],
 "metadata": {
  "kernelspec": {
   "display_name": "Python 3",
   "language": "python",
   "name": "python3"
  },
  "language_info": {
   "codemirror_mode": {
    "name": "ipython",
    "version": 3
   },
   "file_extension": ".py",
   "mimetype": "text/x-python",
   "name": "python",
   "nbconvert_exporter": "python",
   "pygments_lexer": "ipython3",
   "version": "3.8.5"
  },
  "toc": {
   "base_numbering": 1,
   "nav_menu": {},
   "number_sections": true,
   "sideBar": true,
   "skip_h1_title": false,
   "title_cell": "Table of Contents",
   "title_sidebar": "Contents",
   "toc_cell": false,
   "toc_position": {},
   "toc_section_display": true,
   "toc_window_display": false
  }
 },
 "nbformat": 4,
 "nbformat_minor": 4
}
