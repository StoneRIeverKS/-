{
 "cells": [
  {
   "cell_type": "markdown",
   "metadata": {},
   "source": [
    "# 初期設定"
   ]
  },
  {
   "cell_type": "code",
   "execution_count": 1,
   "metadata": {
    "ExecuteTime": {
     "end_time": "2021-08-08T15:05:54.480577Z",
     "start_time": "2021-08-08T15:05:54.472496Z"
    }
   },
   "outputs": [],
   "source": [
    "#サンプルサイズ\n",
    "N = 10**3\n",
    "\n",
    "#共変量の次元数\n",
    "K = 4\n",
    "cov_list_str = [\"X1\", \"X2\", \"X3\", \"X4\"]\n",
    "\n",
    "#一様分布の範囲\n",
    "a, b = [-1, 0]\n",
    "\n",
    "#カーネル回帰のテストデータの割合\n",
    "size = 0.25"
   ]
  },
  {
   "cell_type": "markdown",
   "metadata": {},
   "source": [
    "# import"
   ]
  },
  {
   "cell_type": "code",
   "execution_count": 2,
   "metadata": {
    "ExecuteTime": {
     "end_time": "2021-08-08T15:05:57.517828Z",
     "start_time": "2021-08-08T15:05:54.482899Z"
    }
   },
   "outputs": [],
   "source": [
    "import numpy as np\n",
    "import pandas as pd\n",
    "import matplotlib.pyplot as plt\n",
    "\n",
    "\n",
    "#傾向スコアの推定\n",
    "from sklearn.linear_model import LogisticRegression\n",
    "\n",
    "#カーネル回帰\n",
    "from sklearn.kernel_ridge import KernelRidge\n",
    "#モデルの評価\n",
    "from sklearn.metrics import mean_squared_error\n",
    "\n",
    "from sklearn.model_selection import train_test_split\n",
    "\n",
    "import itertools"
   ]
  },
  {
   "cell_type": "markdown",
   "metadata": {},
   "source": [
    "# 汎用関数"
   ]
  },
  {
   "cell_type": "code",
   "execution_count": 3,
   "metadata": {
    "ExecuteTime": {
     "end_time": "2021-08-08T15:05:57.532971Z",
     "start_time": "2021-08-08T15:05:57.521949Z"
    }
   },
   "outputs": [],
   "source": [
    "#真の傾向スコアモデル\n",
    "def propensity_score(vec, coef = np.array([-1, -1, -1, -1])):\n",
    "    linear = vec*coef\n",
    "    return(1/(1+np.exp(np.sum(linear))))\n",
    "\n",
    "#真の結果変数\n",
    "def result(vec, coef = np.array([1, 2, 3, 4, 1])):\n",
    "    linear = vec*coef\n",
    "    return(np.sum(linear))"
   ]
  },
  {
   "cell_type": "markdown",
   "metadata": {},
   "source": [
    "# シミュレーションデータの発生"
   ]
  },
  {
   "cell_type": "code",
   "execution_count": 4,
   "metadata": {
    "ExecuteTime": {
     "end_time": "2021-08-08T15:05:58.060737Z",
     "start_time": "2021-08-08T15:05:57.536718Z"
    }
   },
   "outputs": [],
   "source": [
    "#シミュレーションデータ生成\n",
    "df = pd.DataFrame((b-a)*np.random.rand(N,K)+a, columns = cov_list_str)\n",
    "\n",
    "#真の傾向スコアの計算\n",
    "true_propensity_score = pd.DataFrame(df.apply(propensity_score, axis=1), columns = [\"true_propensity_score\"])\n",
    "\n",
    "#真の傾向スコアをもとのデータフレームにマージ\n",
    "df_true_ps = pd.merge(df, true_propensity_score, how=\"left\", left_index=True, right_index=True)\n",
    "\n",
    "#真の傾向スコアに基づき介入変数を乱数で発生させる\n",
    "treatment = pd.DataFrame([np.random.binomial(n=1, p=p) for p in true_propensity_score[\"true_propensity_score\"]], columns = [\"treatment_flg\"])\n",
    "\n",
    "#介入変数をもとのデータフレームにマージ\n",
    "df_treatment = pd.merge(df_true_ps, treatment, how=\"left\", left_index=True, right_index=True)\n",
    "\n",
    "#結果変数を計算\n",
    "Y = df_treatment[cov_list_str+[\"treatment_flg\"]].apply(result, axis=1)\n",
    "result_col = pd.DataFrame(Y, columns = [\"result\"])\n",
    "\n",
    "#結果変数をもとのデータフレームにマージ\n",
    "df_result = pd.merge(df_treatment, result_col, how=\"left\", left_index=True, right_index=True)"
   ]
  },
  {
   "cell_type": "code",
   "execution_count": 5,
   "metadata": {
    "ExecuteTime": {
     "end_time": "2021-08-08T15:05:58.092459Z",
     "start_time": "2021-08-08T15:05:58.063076Z"
    }
   },
   "outputs": [
    {
     "data": {
      "text/html": [
       "<div>\n",
       "<style scoped>\n",
       "    .dataframe tbody tr th:only-of-type {\n",
       "        vertical-align: middle;\n",
       "    }\n",
       "\n",
       "    .dataframe tbody tr th {\n",
       "        vertical-align: top;\n",
       "    }\n",
       "\n",
       "    .dataframe thead th {\n",
       "        text-align: right;\n",
       "    }\n",
       "</style>\n",
       "<table border=\"1\" class=\"dataframe\">\n",
       "  <thead>\n",
       "    <tr style=\"text-align: right;\">\n",
       "      <th></th>\n",
       "      <th>X1</th>\n",
       "      <th>X2</th>\n",
       "      <th>X3</th>\n",
       "      <th>X4</th>\n",
       "      <th>true_propensity_score</th>\n",
       "      <th>treatment_flg</th>\n",
       "    </tr>\n",
       "  </thead>\n",
       "  <tbody>\n",
       "    <tr>\n",
       "      <th>0</th>\n",
       "      <td>-0.475833</td>\n",
       "      <td>-0.315414</td>\n",
       "      <td>-0.941686</td>\n",
       "      <td>-0.624610</td>\n",
       "      <td>0.086468</td>\n",
       "      <td>0</td>\n",
       "    </tr>\n",
       "    <tr>\n",
       "      <th>1</th>\n",
       "      <td>-0.704295</td>\n",
       "      <td>-0.746961</td>\n",
       "      <td>-0.647906</td>\n",
       "      <td>-0.743524</td>\n",
       "      <td>0.055061</td>\n",
       "      <td>0</td>\n",
       "    </tr>\n",
       "    <tr>\n",
       "      <th>2</th>\n",
       "      <td>-0.809693</td>\n",
       "      <td>-0.041190</td>\n",
       "      <td>-0.890532</td>\n",
       "      <td>-0.312234</td>\n",
       "      <td>0.113684</td>\n",
       "      <td>0</td>\n",
       "    </tr>\n",
       "    <tr>\n",
       "      <th>3</th>\n",
       "      <td>-0.681650</td>\n",
       "      <td>-0.188605</td>\n",
       "      <td>-0.993559</td>\n",
       "      <td>-0.144918</td>\n",
       "      <td>0.118289</td>\n",
       "      <td>1</td>\n",
       "    </tr>\n",
       "    <tr>\n",
       "      <th>4</th>\n",
       "      <td>-0.693183</td>\n",
       "      <td>-0.975271</td>\n",
       "      <td>-0.220969</td>\n",
       "      <td>-0.863285</td>\n",
       "      <td>0.059934</td>\n",
       "      <td>0</td>\n",
       "    </tr>\n",
       "    <tr>\n",
       "      <th>...</th>\n",
       "      <td>...</td>\n",
       "      <td>...</td>\n",
       "      <td>...</td>\n",
       "      <td>...</td>\n",
       "      <td>...</td>\n",
       "      <td>...</td>\n",
       "    </tr>\n",
       "    <tr>\n",
       "      <th>995</th>\n",
       "      <td>-0.546270</td>\n",
       "      <td>-0.979196</td>\n",
       "      <td>-0.406065</td>\n",
       "      <td>-0.713314</td>\n",
       "      <td>0.066307</td>\n",
       "      <td>0</td>\n",
       "    </tr>\n",
       "    <tr>\n",
       "      <th>996</th>\n",
       "      <td>-0.718234</td>\n",
       "      <td>-0.179580</td>\n",
       "      <td>-0.054061</td>\n",
       "      <td>-0.041099</td>\n",
       "      <td>0.270325</td>\n",
       "      <td>0</td>\n",
       "    </tr>\n",
       "    <tr>\n",
       "      <th>997</th>\n",
       "      <td>-0.989716</td>\n",
       "      <td>-0.545135</td>\n",
       "      <td>-0.439089</td>\n",
       "      <td>-0.949989</td>\n",
       "      <td>0.050983</td>\n",
       "      <td>0</td>\n",
       "    </tr>\n",
       "    <tr>\n",
       "      <th>998</th>\n",
       "      <td>-0.435042</td>\n",
       "      <td>-0.880652</td>\n",
       "      <td>-0.343226</td>\n",
       "      <td>-0.421349</td>\n",
       "      <td>0.111029</td>\n",
       "      <td>0</td>\n",
       "    </tr>\n",
       "    <tr>\n",
       "      <th>999</th>\n",
       "      <td>-0.736901</td>\n",
       "      <td>-0.901844</td>\n",
       "      <td>-0.731108</td>\n",
       "      <td>-0.365308</td>\n",
       "      <td>0.060930</td>\n",
       "      <td>0</td>\n",
       "    </tr>\n",
       "  </tbody>\n",
       "</table>\n",
       "<p>1000 rows × 6 columns</p>\n",
       "</div>"
      ],
      "text/plain": [
       "           X1        X2        X3        X4  true_propensity_score  \\\n",
       "0   -0.475833 -0.315414 -0.941686 -0.624610               0.086468   \n",
       "1   -0.704295 -0.746961 -0.647906 -0.743524               0.055061   \n",
       "2   -0.809693 -0.041190 -0.890532 -0.312234               0.113684   \n",
       "3   -0.681650 -0.188605 -0.993559 -0.144918               0.118289   \n",
       "4   -0.693183 -0.975271 -0.220969 -0.863285               0.059934   \n",
       "..        ...       ...       ...       ...                    ...   \n",
       "995 -0.546270 -0.979196 -0.406065 -0.713314               0.066307   \n",
       "996 -0.718234 -0.179580 -0.054061 -0.041099               0.270325   \n",
       "997 -0.989716 -0.545135 -0.439089 -0.949989               0.050983   \n",
       "998 -0.435042 -0.880652 -0.343226 -0.421349               0.111029   \n",
       "999 -0.736901 -0.901844 -0.731108 -0.365308               0.060930   \n",
       "\n",
       "     treatment_flg  \n",
       "0                0  \n",
       "1                0  \n",
       "2                0  \n",
       "3                1  \n",
       "4                0  \n",
       "..             ...  \n",
       "995              0  \n",
       "996              0  \n",
       "997              0  \n",
       "998              0  \n",
       "999              0  \n",
       "\n",
       "[1000 rows x 6 columns]"
      ]
     },
     "execution_count": 5,
     "metadata": {},
     "output_type": "execute_result"
    }
   ],
   "source": [
    "df_treatment"
   ]
  },
  {
   "cell_type": "markdown",
   "metadata": {},
   "source": [
    "## シミュレーションデータの確認"
   ]
  },
  {
   "cell_type": "code",
   "execution_count": 6,
   "metadata": {
    "ExecuteTime": {
     "end_time": "2021-08-08T15:05:58.138618Z",
     "start_time": "2021-08-08T15:05:58.094295Z"
    }
   },
   "outputs": [
    {
     "name": "stdout",
     "output_type": "stream",
     "text": [
      "介入なしの結果変数の平均： -5.126328022761204\n",
      "介入ありの結果変数の平均： -3.4147830202669454\n",
      "RCTの介入なしの結果変数の平均： -5.051584342190896\n",
      "RCTの介入ありの結果変数の平均： -4.016629283620144\n",
      "セレクションバイアスが含まれた効果： 1.7115450024942582\n",
      "RCTによる効果(真に近い効果)： 1.0349550585707519\n",
      "セレクションバイアス： 0.6765899439235064\n"
     ]
    }
   ],
   "source": [
    "#単純に介入の有無で結果変数の平均をとったもの\n",
    "simple_result0 = df_result.groupby(\"treatment_flg\").mean()[\"result\"][0]\n",
    "simple_result1 = df_result.groupby(\"treatment_flg\").mean()[\"result\"][1]\n",
    "\n",
    "#RCT\n",
    "##RCTで介入変数を決める\n",
    "RCT_treatment = pd.DataFrame(np.random.binomial(n=1, p=1/2, size=N), columns = [\"RCT_treatment_flg\"])\n",
    "##RCTの介入変数をもとのデータフレームにマージ\n",
    "RCT = pd.merge(df_result, RCT_treatment, how=\"left\", left_index=True, right_index=True)\n",
    "\n",
    "##RCTの場合の結果変数\n",
    "RCT_Y = 1*RCT[cov_list_str[0]]+2*RCT[cov_list_str[1]]+3*RCT[cov_list_str[2]]+4*RCT[cov_list_str[3]]+RCT[\"RCT_treatment_flg\"]\n",
    "RCT_Y_df = pd.DataFrame(RCT_Y, columns = [\"RCT_result\"])\n",
    "RCT_result = pd.merge(RCT, RCT_Y_df,  how=\"left\", left_index=True, right_index=True)\n",
    "\n",
    "\n",
    "##RCTで結果変数の平均をとったもの\n",
    "rct_result0 = RCT_result.groupby(\"RCT_treatment_flg\").mean()[\"RCT_result\"][0]\n",
    "rct_result1 = RCT_result.groupby(\"RCT_treatment_flg\").mean()[\"RCT_result\"][1]\n",
    "\n",
    "#指標のprint\n",
    "print(\"介入なしの結果変数の平均：\", simple_result0)\n",
    "print(\"介入ありの結果変数の平均：\", simple_result1)\n",
    "print(\"RCTの介入なしの結果変数の平均：\", rct_result0)\n",
    "print(\"RCTの介入ありの結果変数の平均：\", rct_result1)\n",
    "print(\"セレクションバイアスが含まれた効果：\", simple_result1-simple_result0)\n",
    "print(\"RCTによる効果(真に近い効果)：\", rct_result1-rct_result0)\n",
    "print(\"セレクションバイアス：\", (simple_result1-simple_result0)-(rct_result1-rct_result0))"
   ]
  },
  {
   "cell_type": "markdown",
   "metadata": {},
   "source": [
    "# 傾向スコアの推定\n",
    "GMMのpythonパッケージ\n",
    "statsmodels.sandbox.regression.gmm.GMM"
   ]
  },
  {
   "cell_type": "markdown",
   "metadata": {},
   "source": [
    "## ロジスティック回帰モデル"
   ]
  },
  {
   "cell_type": "code",
   "execution_count": 7,
   "metadata": {
    "ExecuteTime": {
     "end_time": "2021-08-08T15:05:58.216256Z",
     "start_time": "2021-08-08T15:05:58.141295Z"
    }
   },
   "outputs": [],
   "source": [
    "#ロジスティック回帰モデルのインスタンス作成\n",
    "lr = LogisticRegression()\n",
    "\n",
    "#ロジスティック回帰モデルの推定\n",
    "lr.fit(df_result[cov_list_str], df_result[\"treatment_flg\"])\n",
    "\n",
    "#推定された傾向スコア\n",
    "est_propensity_score = lr.predict_proba(df_result[cov_list_str])[:,1]\n",
    "\n",
    "#傾向スコアをもとのデータフレームにマージ\n",
    "df_estps = (\n",
    "    pd.merge(\n",
    "        df_result,\n",
    "        pd.DataFrame(est_propensity_score, columns = [\"est_propensity_score\"]),\n",
    "        how=\"left\",\n",
    "        left_index=True,\n",
    "        right_index=True)\n",
    ")"
   ]
  },
  {
   "cell_type": "markdown",
   "metadata": {},
   "source": [
    "# 共変量調整"
   ]
  },
  {
   "cell_type": "markdown",
   "metadata": {},
   "source": [
    "## 傾向スコアマッチング"
   ]
  },
  {
   "cell_type": "code",
   "execution_count": 8,
   "metadata": {
    "ExecuteTime": {
     "end_time": "2021-08-08T15:05:58.246885Z",
     "start_time": "2021-08-08T15:05:58.220915Z"
    }
   },
   "outputs": [],
   "source": [
    "#傾向スコアマッチング(最近傍マッチング)を実行するクラス\n",
    "class propensityScoreMatching:\n",
    "    #__init_で傾向スコアマッチングを行い、indexの組み合わせを取得する\n",
    "    def __init__(self, df, cov_list, z, ps, rs):\n",
    "        self.df = df\n",
    "        self.cov_list = cov_list\n",
    "        self.z = z\n",
    "        self.ps = ps\n",
    "        self.rs = rs\n",
    "        \n",
    "        \n",
    "        #介入の有無でデータフレームを分割\n",
    "        self.df0 = self.df[self.df[z] == 0]\n",
    "        self.df1 = self.df[self.df[z] == 1]\n",
    "        \n",
    "        #df0のindex取得\n",
    "        tmp_df0_index = self.df0[self.ps].index.values\n",
    "        #マッチング後のindexを入れる変数を定義(介入なし)\n",
    "        self.df0_index = np.empty(0, dtype=\"int64\")\n",
    "        #マッチング後のindexを定義(介入あり)\n",
    "        self.df1_index = self.df1[self.ps].index.values\n",
    "        \n",
    "        #最近傍マッチングで傾向スコアマッチング\n",
    "        for eps1 in self.df1[self.ps]:\n",
    "            #介入ありと介入なしの傾向スコアの差の絶対値を計算\n",
    "            abs_eps_list = [abs(eps1-eps0) for eps0 in self.df0[self.ps]]\n",
    "            #傾向スコアの差の絶対値が最小のindexを取得\n",
    "            min_index = tmp_df0_index[abs_eps_list.index(min(abs_eps_list))]\n",
    "            #マッチング後のindexを入れる\n",
    "            self.df0_index = np.append(self.df0_index, min_index)\n",
    "            \n",
    "    def get_effect(self):\n",
    "        #各群の結果変数の平均を取得\n",
    "        self.mean0 = np.average(self.df0.loc[self.df0_index][self.rs])  \n",
    "        self.mean1 = np.average(self.df1.loc[self.df1_index][self.rs])\n",
    "        \n",
    "        return (self.mean1-self.mean0)\n",
    "        \n",
    "    def compare_cov_mean_var(self):\n",
    "        #共変量調整後の共変量の平均\n",
    "        self.cov_mean0 = np.mean(self.df0[self.cov_list].loc[self.df0_index])\n",
    "        self.cov_mean1 = np.mean(self.df1[self.cov_list].loc[self.df1_index])\n",
    "        \n",
    "        #共変量調整後の共変量の分散\n",
    "        self.cov_var0 = np.var(self.df0[self.cov_list].loc[self.df0_index])\n",
    "        self.cov_var1 = np.var(self.df1[self.cov_list].loc[self.df1_index])\n",
    "             \n",
    "        #共変量調整前の共変量の平均\n",
    "        self.not_cov_mean0 = np.mean(self.df0[self.cov_list])\n",
    "        self.not_cov_mean1 = np.mean(self.df1[self.cov_list])\n",
    "        \n",
    "        #共変量調整前の共変量の分散\n",
    "        self.not_cov_var0 = np.var(self.df0[self.cov_list])\n",
    "        self.not_cov_var1 = np.var(self.df1[self.cov_list])\n",
    "        \n",
    "        #共変量調整後の共変量の平均の差\n",
    "        self.adjusted_abs_diff_mean = abs(self.cov_mean1-self.cov_mean0)\n",
    "        \n",
    "        #共変量調整後の共変量の分散の差\n",
    "        self.adjusted_abs_diff_var = abs(self.cov_var1-self.cov_var0)\n",
    "        \n",
    "        #共変量調整前の共変量の平均の差\n",
    "        self.not_adjusted_abs_diff_mean = abs(self.not_cov_mean1-self.not_cov_mean0)\n",
    "        \n",
    "        #共変量調整前の共変量の分散の差\n",
    "        self.not_adjusted_abs_diff_var = abs(self.not_cov_var1-self.not_cov_var0)\n",
    "        \n",
    "        \n",
    "        #作図\n",
    "        ##パラメータ\n",
    "        top = np.arange(len(self.adjusted_abs_diff_mean))\n",
    "        height = 0.3\n",
    "        ##作図関数\n",
    "        #plt.subplot(1, 2, 1)\n",
    "        plt.barh(top, self.adjusted_abs_diff_mean, label=\"adjusted\", height=0.3, align=\"edge\", zorder=10) \n",
    "        plt.barh(top+height, self.not_adjusted_abs_diff_mean, label=\"not adjusted\", height=0.3, align=\"edge\", zorder=10) \n",
    "        plt.yticks(top+height, self.adjusted_abs_diff_mean.index)\n",
    "        plt.vlines([0.1], ymin=0, ymax=len(self.adjusted_abs_diff_mean), linestyle = \"dashed\")\n",
    "        plt.ylim(0, len(self.adjusted_abs_diff_mean))\n",
    "        plt.xlabel(\"Absolute Mean Differences\")\n",
    "        plt.ylabel(\"Covariate Balance\")\n",
    "        plt.legend(bbox_to_anchor=(1, 1), loc='upper right', borderaxespad=0, fontsize=8)\n",
    "        \n",
    "        ##作図関数(分散まではあまり見られていないので一旦省略)\n",
    "        #plt.subplot(1, 2, 2)\n",
    "        #plt.barh(top, self.adjusted_abs_diff_var, label=\"adjusted\", height=0.3, align=\"edge\", zorder=10) \n",
    "        #plt.barh(top+height, self.not_adjusted_abs_diff_var, label=\"not adjusted\", height=0.3, align=\"edge\", zorder=10) \n",
    "        #plt.yticks(color=\"None\")\n",
    "        #plt.vlines([0.1], ymin=0, ymax=len(self.adjusted_abs_diff_var), linestyle = \"dashed\")\n",
    "        #plt.ylim(0, len(self.adjusted_abs_diff_var))\n",
    "        #plt.xlabel(\"Absolute Variance Differences\")\n",
    "        #plt.legend(bbox_to_anchor=(1, 1), loc='upper right', borderaxespad=0, fontsize=8)\n",
    "        \n",
    "    #def compare_cov_graph(self):"
   ]
  },
  {
   "cell_type": "code",
   "execution_count": 9,
   "metadata": {
    "ExecuteTime": {
     "end_time": "2021-08-08T15:05:58.309684Z",
     "start_time": "2021-08-08T15:05:58.249886Z"
    }
   },
   "outputs": [],
   "source": [
    "match_result = (\n",
    "    propensityScoreMatching(\n",
    "        df = df_estps,\n",
    "        cov_list = cov_list_str,\n",
    "        z = \"treatment_flg\",\n",
    "        ps = \"est_propensity_score\",\n",
    "        rs = \"result\")\n",
    ")"
   ]
  },
  {
   "cell_type": "code",
   "execution_count": 10,
   "metadata": {
    "ExecuteTime": {
     "end_time": "2021-08-08T15:05:58.325735Z",
     "start_time": "2021-08-08T15:05:58.310685Z"
    }
   },
   "outputs": [
    {
     "data": {
      "text/plain": [
       "0.9488403905225105"
      ]
     },
     "execution_count": 10,
     "metadata": {},
     "output_type": "execute_result"
    }
   ],
   "source": [
    "match_result.get_effect()"
   ]
  },
  {
   "cell_type": "code",
   "execution_count": 11,
   "metadata": {
    "ExecuteTime": {
     "end_time": "2021-08-08T15:05:58.559511Z",
     "start_time": "2021-08-08T15:05:58.327742Z"
    },
    "scrolled": true
   },
   "outputs": [
    {
     "data": {
      "image/png": "[encoded data removed]",
      "text/plain": [
       "<Figure size 432x288 with 1 Axes>"
      ]
     },
     "metadata": {
      "needs_background": "light"
     },
     "output_type": "display_data"
    }
   ],
   "source": [
    "match_result.compare_cov_mean_var()"
   ]
  },
  {
   "cell_type": "markdown",
   "metadata": {},
   "source": [
    "## IPW推定"
   ]
  },
  {
   "cell_type": "code",
   "execution_count": 12,
   "metadata": {
    "ExecuteTime": {
     "end_time": "2021-08-08T15:05:58.575448Z",
     "start_time": "2021-08-08T15:05:58.560517Z"
    }
   },
   "outputs": [],
   "source": [
    "#IPW推定量によって効果を算出するクラス\n",
    "class inverseProbbilityWeight:\n",
    "    #__init_でIPWを算出する\n",
    "    def __init__(self, df, cov_list, z, ps, rs):\n",
    "        self.df = df\n",
    "        self.cov_list = cov_list\n",
    "        self.z = z\n",
    "        self.ps = ps\n",
    "        self.rs = rs\n",
    "        \n",
    "        #介入の有無でデータフレームを分割\n",
    "        self.df0 = self.df[self.df[z] == 0]\n",
    "        self.df1 = self.df[self.df[z] == 1]\n",
    "        \n",
    "    def ipw(self, column):\n",
    "        ipw1 = np.sum((self.df1[self.z]*self.df1[column])/self.df1[self.ps])/np.sum(self.df1[self.z]/self.df1[self.ps])\n",
    "        ipw0 = np.sum(((1-self.df0[self.z])*self.df0[column])/(1-self.df0[self.ps]))/np.sum((1-self.df0[self.z])/(1-self.df0[self.ps]))       \n",
    "        \n",
    "        return(ipw1, ipw0)\n",
    "    \n",
    "    def get_effect(self):\n",
    "        #各群のIPW推定量を計算\n",
    "        self.ipw_mean1, self.ipw_mean0 = self.ipw(column=self.rs)\n",
    "               \n",
    "        return (self.ipw_mean1-self.ipw_mean0)\n",
    "        \n",
    "    def compare_cov_mean_var(self):\n",
    "        #共変量調整後の共変量の平均の差の絶対値\n",
    "        ipw_list = [self.ipw(cov) for cov in self.cov_list]\n",
    "        self.adjusted_abs_diff_mean = [abs(ipw1-ipw0) for ipw1, ipw0 in ipw_list]\n",
    "        \n",
    "        #共変量調整前の共変量の平均の差の絶対値          \n",
    "        ##共変量調整前の共変量の平均\n",
    "        self.not_cov_mean0 = np.mean(self.df0[self.cov_list])\n",
    "        self.not_cov_mean1 = np.mean(self.df1[self.cov_list])\n",
    "        ##差の絶対値\n",
    "        self.not_adjusted_abs_diff_mean = abs(self.not_cov_mean1-self.not_cov_mean0)\n",
    "        \n",
    "        #共変量調整前の共変量の分散の差\n",
    "        self.not_adjusted_abs_diff_mean = abs(self.not_cov_mean1-self.not_cov_mean0)\n",
    "        \n",
    "        #作図\n",
    "        ##パラメータ\n",
    "        top = np.arange(len(self.adjusted_abs_diff_mean))\n",
    "        height = 0.3\n",
    "        ##作図関数\n",
    "        #plt.subplot(1, 2, 1)\n",
    "        plt.barh(top, self.adjusted_abs_diff_mean, label=\"adjusted\", height=0.3, align=\"edge\", zorder=10) \n",
    "        plt.barh(top+height, self.not_adjusted_abs_diff_mean, label=\"not adjusted\", height=0.3, align=\"edge\", zorder=10) \n",
    "        plt.yticks(top+height, self.cov_list)\n",
    "        plt.vlines([0.1], ymin=0, ymax=len(self.adjusted_abs_diff_mean), linestyle = \"dashed\")\n",
    "        plt.ylim(0, len(self.adjusted_abs_diff_mean))\n",
    "        plt.xlabel(\"Absolute Mean Differences\")\n",
    "        plt.ylabel(\"Covariate Balance\")\n",
    "        plt.legend(bbox_to_anchor=(1, 1), loc='upper right', borderaxespad=0, fontsize=8)"
   ]
  },
  {
   "cell_type": "code",
   "execution_count": 13,
   "metadata": {
    "ExecuteTime": {
     "end_time": "2021-08-08T15:05:58.591455Z",
     "start_time": "2021-08-08T15:05:58.579134Z"
    }
   },
   "outputs": [],
   "source": [
    "ipw_result = (\n",
    "    inverseProbbilityWeight(\n",
    "        df = df_estps,\n",
    "        cov_list = cov_list_str,\n",
    "        z = \"treatment_flg\",\n",
    "        ps = \"est_propensity_score\",\n",
    "        rs = \"result\")\n",
    ")"
   ]
  },
  {
   "cell_type": "code",
   "execution_count": 14,
   "metadata": {
    "ExecuteTime": {
     "end_time": "2021-08-08T15:05:58.606819Z",
     "start_time": "2021-08-08T15:05:58.594035Z"
    }
   },
   "outputs": [
    {
     "data": {
      "text/plain": [
       "0.9694258234412647"
      ]
     },
     "execution_count": 14,
     "metadata": {},
     "output_type": "execute_result"
    }
   ],
   "source": [
    "ipw_result.get_effect()"
   ]
  },
  {
   "cell_type": "code",
   "execution_count": 15,
   "metadata": {
    "ExecuteTime": {
     "end_time": "2021-08-08T15:05:58.808529Z",
     "start_time": "2021-08-08T15:05:58.609877Z"
    },
    "scrolled": true
   },
   "outputs": [
    {
     "data": {
      "image/png": "[encoded data removed]",
      "text/plain": [
       "<Figure size 432x288 with 1 Axes>"
      ]
     },
     "metadata": {
      "needs_background": "light"
     },
     "output_type": "display_data"
    }
   ],
   "source": [
    "ipw_result.compare_cov_mean_var()"
   ]
  },
  {
   "cell_type": "markdown",
   "metadata": {},
   "source": [
    "## カーネル回帰"
   ]
  },
  {
   "cell_type": "code",
   "execution_count": 16,
   "metadata": {
    "ExecuteTime": {
     "end_time": "2021-08-08T15:05:58.823786Z",
     "start_time": "2021-08-08T15:05:58.810704Z"
    }
   },
   "outputs": [],
   "source": [
    "#介入群と非介入群に分割する\n",
    "df_estps1 = df_estps[df_estps[\"treatment_flg\"] == 1]\n",
    "df_estps0 = df_estps[df_estps[\"treatment_flg\"] == 0]"
   ]
  },
  {
   "cell_type": "code",
   "execution_count": 17,
   "metadata": {
    "ExecuteTime": {
     "end_time": "2021-08-08T15:05:58.839143Z",
     "start_time": "2021-08-08T15:05:58.826867Z"
    }
   },
   "outputs": [],
   "source": [
    "df_estps0_train, df_estps0_test = train_test_split(df_estps0, test_size = size)"
   ]
  },
  {
   "cell_type": "markdown",
   "metadata": {},
   "source": [
    "## カーネルの定義"
   ]
  },
  {
   "cell_type": "code",
   "execution_count": 18,
   "metadata": {
    "ExecuteTime": {
     "end_time": "2021-08-08T15:05:58.854350Z",
     "start_time": "2021-08-08T15:05:58.840537Z"
    }
   },
   "outputs": [],
   "source": [
    "## ガウシアンカーネル\n",
    "def gaussianKernel(x, x_prime, width):\n",
    "    k = np.exp(- np.linalg.norm(x - x_prime)**2 / (2 * width**2))\n",
    "    return(k)\n",
    "\n",
    "##イパネクニコフ2次カーネル\n",
    "def epanechinikovKernel(x, x_prime, width):\n",
    "    t = abs(x-x_prime)/width\n",
    "    D = 3/4*(1-t**2) if abs(t) <= 1 else 0\n",
    "    return(D)"
   ]
  },
  {
   "cell_type": "markdown",
   "metadata": {},
   "source": [
    "## p次カーネル回帰"
   ]
  },
  {
   "cell_type": "code",
   "execution_count": 19,
   "metadata": {
    "ExecuteTime": {
     "end_time": "2021-08-08T15:05:58.870408Z",
     "start_time": "2021-08-08T15:05:58.856263Z"
    }
   },
   "outputs": [],
   "source": [
    "def localRegression(x, resvar, exvar, treatvar, df, kernel = \"gaussianKernel\", width = 0.1, dim = 1):\n",
    "    \n",
    "    #説明変数の行列作成\n",
    "    X = np.ones(len(df[exvar]))\n",
    "    for p in range(1, dim+1):\n",
    "        xp = df[exvar]**p\n",
    "        X = np.c_[X, xp]\n",
    "        \n",
    "    #カーネルが入った対角行列作成\n",
    "    if kernel == \"gaussianKernel\":\n",
    "        kernel_list = [(1-z_ele)*gaussianKernel(x, x_ele, width) for x_ele, z_ele in zip(df[exvar], df[treatvar])]\n",
    "    elif kernel == \"epanechinikovKernel\":\n",
    "        kernel_list = [(1-z_ele)*epanechinikovKernel(x, x_ele, width) for x_ele, z_ele in zip(df[exvar], df[treatvar])]\n",
    "    else:\n",
    "        print(\"please input kernel\")\n",
    "        return()\n",
    "    \n",
    "    W = np.diag(kernel_list)\n",
    "       \n",
    "    coef = np.linalg.inv((X.T)@W@X)@(X.T)@W@df[resvar]\n",
    "    predict = np.sum(coef*[x**p for p in range(0, dim+1)])\n",
    "    return(predict)"
   ]
  },
  {
   "cell_type": "code",
   "execution_count": 38,
   "metadata": {
    "ExecuteTime": {
     "end_time": "2021-08-08T15:38:51.599750Z",
     "start_time": "2021-08-08T15:38:08.716731Z"
    }
   },
   "outputs": [],
   "source": [
    "#対照群の訓練データを用いたモデルの作成とテストデータを用いた汎化性能の測定\n",
    "##パラメータの候補を設定\n",
    "kernel_list = [\"gaussianKernel\", \"epanechinikovKernel\"]\n",
    "width_list = np.arange(0.5, 1.0, 0.1)\n",
    "dim_list = list(range(2, 5))\n",
    "\n",
    "##パラメータの全列挙パターン作成\n",
    "param_list = itertools.product(kernel_list, width_list, dim_list)\n",
    "\n",
    "##各パラメータについてMSEを計算\n",
    "\n",
    "MSE_df = pd.DataFrame(columns=[\"kernel\", \"width\", \"dim\", \"MSE\"])\n",
    "for k, w, d, in param_list:\n",
    "    ##テストデータの予測値作成\n",
    "    predict_list = [\n",
    "        localRegression(x = x_ele,\n",
    "                        resvar = \"result\",\n",
    "                        exvar = \"est_propensity_score\",\n",
    "                        treatvar = \"treatment_flg\",\n",
    "                        df = df_estps0_train,\n",
    "                        kernel = k,\n",
    "                        width = w,\n",
    "                        dim = d)\n",
    "        for x_ele in df_estps0_test[\"est_propensity_score\"]\n",
    "    ]\n",
    "    \n",
    "    #テストデータの真の結果\n",
    "    result_list = df_estps0_test[\"result\"]\n",
    "    \n",
    "    #MSEをパラメータとともに保存\n",
    "    tmp_MSE = (\n",
    "        pd.DataFrame(\n",
    "            {\"kernel\" : [k],\n",
    "             \"width\" : w,\n",
    "             \"dim\" : d,\n",
    "             \"MSE\" : mean_squared_error(predict_list, result_list)\n",
    "            }\n",
    "        )\n",
    "    )\n",
    "    \n",
    "    MSE_df = MSE_df.append(tmp_MSE)"
   ]
  },
  {
   "cell_type": "code",
   "execution_count": 21,
   "metadata": {
    "ExecuteTime": {
     "end_time": "2021-08-08T15:07:27.433930Z",
     "start_time": "2021-08-08T15:07:27.418560Z"
    }
   },
   "outputs": [],
   "source": [
    "#MSEが最小のパラメータを出力\n",
    "min_params_df = MSE_df[MSE_df[\"MSE\"] == min(MSE_df[\"MSE\"])]"
   ]
  },
  {
   "cell_type": "code",
   "execution_count": 22,
   "metadata": {
    "ExecuteTime": {
     "end_time": "2021-08-08T15:07:27.464776Z",
     "start_time": "2021-08-08T15:07:27.439955Z"
    }
   },
   "outputs": [
    {
     "data": {
      "text/html": [
       "<div>\n",
       "<style scoped>\n",
       "    .dataframe tbody tr th:only-of-type {\n",
       "        vertical-align: middle;\n",
       "    }\n",
       "\n",
       "    .dataframe tbody tr th {\n",
       "        vertical-align: top;\n",
       "    }\n",
       "\n",
       "    .dataframe thead th {\n",
       "        text-align: right;\n",
       "    }\n",
       "</style>\n",
       "<table border=\"1\" class=\"dataframe\">\n",
       "  <thead>\n",
       "    <tr style=\"text-align: right;\">\n",
       "      <th></th>\n",
       "      <th>kernel</th>\n",
       "      <th>width</th>\n",
       "      <th>dim</th>\n",
       "      <th>MSE</th>\n",
       "    </tr>\n",
       "  </thead>\n",
       "  <tbody>\n",
       "    <tr>\n",
       "      <th>0</th>\n",
       "      <td>epanechinikovKernel</td>\n",
       "      <td>0.1</td>\n",
       "      <td>2</td>\n",
       "      <td>0.968887</td>\n",
       "    </tr>\n",
       "  </tbody>\n",
       "</table>\n",
       "</div>"
      ],
      "text/plain": [
       "                kernel  width dim       MSE\n",
       "0  epanechinikovKernel    0.1   2  0.968887"
      ]
     },
     "execution_count": 22,
     "metadata": {},
     "output_type": "execute_result"
    }
   ],
   "source": [
    "min_params_df"
   ]
  },
  {
   "cell_type": "code",
   "execution_count": 23,
   "metadata": {
    "ExecuteTime": {
     "end_time": "2021-08-08T15:07:28.138506Z",
     "start_time": "2021-08-08T15:07:27.470344Z"
    }
   },
   "outputs": [],
   "source": [
    "#選択されたモデルで介入群の介入がなかったときの結果変数を予測する\n",
    "predict_list = [\n",
    "    localRegression(x = x_ele,\n",
    "                    resvar = \"result\",\n",
    "                    exvar = \"est_propensity_score\",\n",
    "                    treatvar = \"treatment_flg\",\n",
    "                    df = df_estps0,\n",
    "                    kernel = min_params_df[\"kernel\"].item(),\n",
    "                    width = min_params_df[\"width\"].item(),\n",
    "                    dim = min_params_df[\"dim\"].item())\n",
    "    for x_ele in df_estps1[\"est_propensity_score\"]\n",
    "]"
   ]
  },
  {
   "cell_type": "code",
   "execution_count": 24,
   "metadata": {
    "ExecuteTime": {
     "end_time": "2021-08-08T15:07:28.153590Z",
     "start_time": "2021-08-08T15:07:28.139497Z"
    }
   },
   "outputs": [
    {
     "name": "stdout",
     "output_type": "stream",
     "text": [
      "カーネル回帰による因果効果の推定値：1.006490212549685\n"
     ]
    }
   ],
   "source": [
    "#因果効果を測定する\n",
    "effect = np.mean(df_estps1[\"result\"]-predict_list)\n",
    "print(\"カーネル回帰による因果効果の推定値：{effect}\".format(effect=effect))"
   ]
  },
  {
   "cell_type": "markdown",
   "metadata": {},
   "source": [
    "# 繰り返しシミュレーション"
   ]
  },
  {
   "cell_type": "code",
   "execution_count": 25,
   "metadata": {
    "ExecuteTime": {
     "end_time": "2021-08-08T15:07:28.168899Z",
     "start_time": "2021-08-08T15:07:28.155096Z"
    }
   },
   "outputs": [],
   "source": [
    "#繰り返し実行する回数\n",
    "M = 10**2"
   ]
  },
  {
   "cell_type": "code",
   "execution_count": 39,
   "metadata": {
    "ExecuteTime": {
     "end_time": "2021-08-08T17:40:36.189031Z",
     "start_time": "2021-08-08T15:38:51.601749Z"
    }
   },
   "outputs": [],
   "source": [
    "#結果を入れておくためのリスト\n",
    "##見かけの結果\n",
    "bias_rs_list = []\n",
    "\n",
    "##セレクションバイアス\n",
    "selection_bias_list = []\n",
    "\n",
    "##傾向スコアマッチング\n",
    "match_rs_list = []\n",
    "##IPW推定量\n",
    "ipw_rs_list = []\n",
    "#カーネル回帰\n",
    "kernel_rs_list = []\n",
    "\n",
    "\n",
    "for m in range(0, M):\n",
    "    \n",
    "    #シミュレーションデータ生成\n",
    "    df = pd.DataFrame((b-a)*np.random.rand(N,K)+a, columns = cov_list_str)\n",
    "\n",
    "    #真の傾向スコアの計算\n",
    "    true_propensity_score = pd.DataFrame(df.apply(propensity_score, axis=1), columns = [\"true_propensity_score\"])\n",
    "\n",
    "    #真の傾向スコアをもとのデータフレームにマージ\n",
    "    df_true_ps = pd.merge(df, true_propensity_score, how=\"left\", left_index=True, right_index=True)\n",
    "\n",
    "    #真の傾向スコアに基づき介入変数を乱数で発生させる\n",
    "    treatment = pd.DataFrame([np.random.binomial(n=1, p=p) for p in true_propensity_score[\"true_propensity_score\"]], columns = [\"treatment_flg\"])\n",
    "\n",
    "    #介入変数をもとのデータフレームにマージ\n",
    "    df_treatment = pd.merge(df_true_ps, treatment, how=\"left\", left_index=True, right_index=True)\n",
    "\n",
    "    #結果変数を計算\n",
    "    Y = df_treatment[cov_list_str+[\"treatment_flg\"]].apply(result, axis=1)\n",
    "    result_col = pd.DataFrame(Y, columns = [\"result\"])\n",
    "\n",
    "    #結果変数をもとのデータフレームにマージ\n",
    "    df_result = pd.merge(df_treatment, result_col, how=\"left\", left_index=True, right_index=True)\n",
    "    \n",
    "    \n",
    "    #単純に介入の有無で結果変数の平均をとったもの\n",
    "    simple_result0 = df_result.groupby(\"treatment_flg\").mean()[\"result\"][0]\n",
    "    simple_result1 = df_result.groupby(\"treatment_flg\").mean()[\"result\"][1]\n",
    "\n",
    "    #RCT\n",
    "    ##RCTで介入変数を決める\n",
    "    RCT_treatment = pd.DataFrame(np.random.binomial(n=1, p=1/2, size=N), columns = [\"RCT_treatment_flg\"])\n",
    "    ##RCTの介入変数をもとのデータフレームにマージ\n",
    "    RCT = pd.merge(df_result, RCT_treatment, how=\"left\", left_index=True, right_index=True)\n",
    "\n",
    "    ##RCTの場合の結果変数\n",
    "    RCT_Y = 1*RCT[cov_list_str[0]]+2*RCT[cov_list_str[1]]+3*RCT[cov_list_str[2]]+4*RCT[cov_list_str[3]]+RCT[\"RCT_treatment_flg\"]\n",
    "    RCT_Y_df = pd.DataFrame(RCT_Y, columns = [\"RCT_result\"])\n",
    "    RCT_result = pd.merge(RCT, RCT_Y_df,  how=\"left\", left_index=True, right_index=True)\n",
    "\n",
    "\n",
    "    ##RCTで結果変数の平均をとったもの\n",
    "    rct_result0 = RCT_result.groupby(\"RCT_treatment_flg\").mean()[\"RCT_result\"][0]\n",
    "    rct_result1 = RCT_result.groupby(\"RCT_treatment_flg\").mean()[\"RCT_result\"][1]\n",
    "\n",
    "    #指標のprint\n",
    "    bias_rs_list.append(simple_result1-simple_result0)\n",
    "    ##セレクションバイアス\n",
    "    selection_bias_list.append((simple_result1-simple_result0)-(rct_result1-rct_result0))\n",
    "\n",
    "    #ロジスティック回帰モデルのインスタンス作成\n",
    "    lr = LogisticRegression()\n",
    "\n",
    "    #ロジスティック回帰モデルの推定\n",
    "    lr.fit(df_result[cov_list_str], df_result[\"treatment_flg\"])\n",
    "\n",
    "    #推定された傾向スコア\n",
    "    est_propensity_score = lr.predict_proba(df_result[cov_list_str])[:,1]\n",
    "\n",
    "    #傾向スコアをもとのデータフレームにマージ\n",
    "    df_estps = (\n",
    "        pd.merge(\n",
    "            df_result,\n",
    "            pd.DataFrame(est_propensity_score, columns = [\"est_propensity_score\"]),\n",
    "            how=\"left\",\n",
    "            left_index=True,\n",
    "            right_index=True)\n",
    "    )\n",
    "\n",
    "    #傾向スコアマッチングの実行\n",
    "    match_result = (\n",
    "        propensityScoreMatching(\n",
    "            df = df_estps,\n",
    "            cov_list = cov_list_str,\n",
    "            z = \"treatment_flg\",\n",
    "            ps = \"est_propensity_score\",\n",
    "            rs = \"result\")\n",
    "    )\n",
    "\n",
    "    #IPW推定量の計算\n",
    "    ipw_result = (\n",
    "        inverseProbbilityWeight(\n",
    "            df = df_estps,\n",
    "            cov_list = cov_list_str,\n",
    "            z = \"treatment_flg\",\n",
    "            ps = \"est_propensity_score\",\n",
    "            rs = \"result\")\n",
    "    )\n",
    "\n",
    "    #カーネル回帰\n",
    "    #介入群と非介入群に分割する\n",
    "    df_estps1 = df_estps[df_estps[\"treatment_flg\"] == 1]\n",
    "    df_estps0 = df_estps[df_estps[\"treatment_flg\"] == 0]\n",
    "\n",
    "    #汎化性能測定のための分割\n",
    "    df_estps0_train, df_estps0_test = train_test_split(df_estps0, test_size = size)\n",
    "\n",
    "    #対照群の訓練データを用いたモデルの作成とテストデータを用いた汎化性能の測定\n",
    "    ##パラメータの候補を設定\n",
    "    kernel_list = [\"gaussianKernel\", \"epanechinikovKernel\"]\n",
    "    width_list = np.arange(0.1, 1.0, 0.1)\n",
    "    dim_list = list(range(2, 5))\n",
    "\n",
    "    ##パラメータの全列挙パターン作成\n",
    "    param_list = itertools.product(kernel_list, width_list, dim_list)\n",
    "\n",
    "    ##各パラメータについてMSEを計算\n",
    "\n",
    "    MSE_df = pd.DataFrame(columns=[\"kernel\", \"width\", \"dim\", \"MSE\"])\n",
    "    for k, w, d, in param_list:\n",
    "        ##テストデータの予測値作成\n",
    "        predict_list = [\n",
    "            localRegression(x = x_ele,\n",
    "                            resvar = \"result\",\n",
    "                            exvar = \"est_propensity_score\",\n",
    "                            treatvar = \"treatment_flg\",\n",
    "                            df = df_estps0_train,\n",
    "                            kernel = k,\n",
    "                            width = w,\n",
    "                            dim = d)\n",
    "            for x_ele in df_estps0_test[\"est_propensity_score\"]\n",
    "        ]\n",
    "\n",
    "        #テストデータの真の結果\n",
    "        result_list = df_estps0_test[\"result\"]\n",
    "\n",
    "        #MSEをパラメータとともに保存\n",
    "        tmp_MSE = (\n",
    "            pd.DataFrame(\n",
    "                {\"kernel\" : [k],\n",
    "                 \"width\" : w,\n",
    "                 \"dim\" : d,\n",
    "                 \"MSE\" : mean_squared_error(predict_list, result_list)\n",
    "                }\n",
    "            )\n",
    "        )\n",
    "\n",
    "        MSE_df = MSE_df.append(tmp_MSE)\n",
    "\n",
    "    #MSEが最小のパラメータを出力\n",
    "    min_params_df = MSE_df[MSE_df[\"MSE\"] == min(MSE_df[\"MSE\"])]\n",
    "\n",
    "    #選択されたモデルで介入群の介入がなかったときの結果変数を予測する\n",
    "    predict_list = [\n",
    "        localRegression(x = x_ele,\n",
    "                        resvar = \"result\",\n",
    "                        exvar = \"est_propensity_score\",\n",
    "                        treatvar = \"treatment_flg\",\n",
    "                        df = df_estps0,\n",
    "                        kernel = min_params_df[\"kernel\"].item(),\n",
    "                        width = min_params_df[\"width\"].item(),\n",
    "                        dim = min_params_df[\"dim\"].item())\n",
    "        for x_ele in df_estps1[\"est_propensity_score\"]\n",
    "    ]\n",
    "\n",
    "    #結果の記録\n",
    "    ##傾向スコアマッチング\n",
    "    match_rs_list.append(match_result.get_effect())\n",
    "\n",
    "    ##IPW推定量\n",
    "    ipw_rs_list.append(ipw_result.get_effect())\n",
    "\n",
    "    #カーネル回帰\n",
    "    kernel_rs_list.append(np.mean(df_estps1[\"result\"]-predict_list))"
   ]
  },
  {
   "cell_type": "code",
   "execution_count": 40,
   "metadata": {
    "ExecuteTime": {
     "end_time": "2021-08-08T17:40:36.420852Z",
     "start_time": "2021-08-08T17:40:36.191234Z"
    }
   },
   "outputs": [
    {
     "data": {
      "text/plain": [
       "(array([ 3., 13., 26., 39., 12.,  7.,  0.,  0.,  0.,  0.]),\n",
       " array([0.8 , 0.86, 0.92, 0.98, 1.04, 1.1 , 1.16, 1.22, 1.28, 1.34, 1.4 ]),\n",
       " <BarContainer object of 10 artists>)"
      ]
     },
     "execution_count": 40,
     "metadata": {},
     "output_type": "execute_result"
    },
    {
     "data": {
      "image/png": "[encoded data removed]",
      "text/plain": [
       "<Figure size 432x288 with 1 Axes>"
      ]
     },
     "metadata": {
      "needs_background": "light"
     },
     "output_type": "display_data"
    }
   ],
   "source": [
    "plt.hist(match_rs_list, range = [0.8, 1.4])"
   ]
  },
  {
   "cell_type": "code",
   "execution_count": 41,
   "metadata": {
    "ExecuteTime": {
     "end_time": "2021-08-08T17:40:36.436537Z",
     "start_time": "2021-08-08T17:40:36.425320Z"
    }
   },
   "outputs": [
    {
     "name": "stdout",
     "output_type": "stream",
     "text": [
      "平均: 0.9886581628101956\n",
      "分散: 0.004375832498039516\n",
      "MSE: 0.004504469768879549\n"
     ]
    }
   ],
   "source": [
    "#平均と分散\n",
    "print(\"平均:\", np.mean(match_rs_list))\n",
    "print(\"分散:\", np.var(match_rs_list))\n",
    "print(\"MSE:\", mean_squared_error(match_rs_list, np.ones(M)))"
   ]
  },
  {
   "cell_type": "code",
   "execution_count": 42,
   "metadata": {
    "ExecuteTime": {
     "end_time": "2021-08-08T17:40:36.592406Z",
     "start_time": "2021-08-08T17:40:36.439613Z"
    }
   },
   "outputs": [
    {
     "data": {
      "text/plain": [
       "(array([ 0.,  1.,  8., 16., 32., 21., 14.,  5.,  3.,  0.]),\n",
       " array([0.8 , 0.86, 0.92, 0.98, 1.04, 1.1 , 1.16, 1.22, 1.28, 1.34, 1.4 ]),\n",
       " <BarContainer object of 10 artists>)"
      ]
     },
     "execution_count": 42,
     "metadata": {},
     "output_type": "execute_result"
    },
    {
     "data": {
      "image/png": "[encoded data removed]",
      "text/plain": [
       "<Figure size 432x288 with 1 Axes>"
      ]
     },
     "metadata": {
      "needs_background": "light"
     },
     "output_type": "display_data"
    }
   ],
   "source": [
    "plt.hist(ipw_rs_list, range = [0.8, 1.4])"
   ]
  },
  {
   "cell_type": "code",
   "execution_count": 43,
   "metadata": {
    "ExecuteTime": {
     "end_time": "2021-08-08T17:40:36.607503Z",
     "start_time": "2021-08-08T17:40:36.593915Z"
    }
   },
   "outputs": [
    {
     "name": "stdout",
     "output_type": "stream",
     "text": [
      "平均: 1.0932620991081763\n",
      "分散: 0.007045650399580381\n",
      "MSE: 0.01574346952964369\n"
     ]
    }
   ],
   "source": [
    "#平均と分散\n",
    "print(\"平均:\", np.mean(ipw_rs_list))\n",
    "print(\"分散:\", np.var(ipw_rs_list))\n",
    "print(\"MSE:\", mean_squared_error(ipw_rs_list, np.ones(M)))"
   ]
  },
  {
   "cell_type": "code",
   "execution_count": 65,
   "metadata": {
    "ExecuteTime": {
     "end_time": "2021-08-09T13:50:05.512111Z",
     "start_time": "2021-08-09T13:50:05.334492Z"
    }
   },
   "outputs": [
    {
     "data": {
      "text/plain": [
       "(array([ 0.,  0., 11., 84.,  2.,  0.,  1.,  0.,  0.,  0.]),\n",
       " array([0.8 , 0.86, 0.92, 0.98, 1.04, 1.1 , 1.16, 1.22, 1.28, 1.34, 1.4 ]),\n",
       " <BarContainer object of 10 artists>)"
      ]
     },
     "execution_count": 65,
     "metadata": {},
     "output_type": "execute_result"
    },
    {
     "data": {
      "image/png": "[encoded data removed]",
      "text/plain": [
       "<Figure size 432x288 with 1 Axes>"
      ]
     },
     "metadata": {
      "needs_background": "light"
     },
     "output_type": "display_data"
    }
   ],
   "source": [
    "plt.hist(kernel_rs_list, range = [0.8, 1.4])"
   ]
  },
  {
   "cell_type": "code",
   "execution_count": 68,
   "metadata": {
    "ExecuteTime": {
     "end_time": "2021-08-09T13:50:33.636543Z",
     "start_time": "2021-08-09T13:50:33.628906Z"
    }
   },
   "outputs": [
    {
     "data": {
      "text/plain": [
       "8.053272878720907"
      ]
     },
     "execution_count": 68,
     "metadata": {},
     "output_type": "execute_result"
    }
   ],
   "source": [
    "max(kernel_rs_list)"
   ]
  },
  {
   "cell_type": "code",
   "execution_count": 63,
   "metadata": {
    "ExecuteTime": {
     "end_time": "2021-08-09T13:49:41.178846Z",
     "start_time": "2021-08-09T13:49:41.171154Z"
    }
   },
   "outputs": [
    {
     "name": "stdout",
     "output_type": "stream",
     "text": [
      "平均: 1.0801179408446253\n",
      "分散: 0.5017705072728801\n",
      "MSE: 0.5081893917180628\n"
     ]
    }
   ],
   "source": [
    "#平均と分散\n",
    "print(\"平均:\", np.mean(kernel_rs_list))\n",
    "print(\"分散:\", np.var(kernel_rs_list))\n",
    "print(\"MSE:\", mean_squared_error(kernel_rs_list, np.ones(M)))"
   ]
  },
  {
   "cell_type": "code",
   "execution_count": 53,
   "metadata": {
    "ExecuteTime": {
     "end_time": "2021-08-09T13:14:38.684400Z",
     "start_time": "2021-08-09T13:14:38.505569Z"
    }
   },
   "outputs": [
    {
     "data": {
      "image/png": "[encoded data removed]",
      "text/plain": [
       "<Figure size 432x288 with 1 Axes>"
      ]
     },
     "metadata": {
      "needs_background": "light"
     },
     "output_type": "display_data"
    }
   ],
   "source": [
    "match_result.compare_cov_mean_var()"
   ]
  },
  {
   "cell_type": "code",
   "execution_count": 55,
   "metadata": {
    "ExecuteTime": {
     "end_time": "2021-08-09T13:14:54.561619Z",
     "start_time": "2021-08-09T13:14:54.545784Z"
    }
   },
   "outputs": [
    {
     "data": {
      "text/plain": [
       "X1    0.030051\n",
       "X2    0.002494\n",
       "X3    0.021795\n",
       "X4    0.003833\n",
       "dtype: float64"
      ]
     },
     "execution_count": 55,
     "metadata": {},
     "output_type": "execute_result"
    }
   ],
   "source": [
    "match_result.adjusted_abs_diff_mean"
   ]
  },
  {
   "cell_type": "code",
   "execution_count": 57,
   "metadata": {
    "ExecuteTime": {
     "end_time": "2021-08-09T13:15:45.923432Z",
     "start_time": "2021-08-09T13:15:45.903909Z"
    }
   },
   "outputs": [
    {
     "data": {
      "text/plain": [
       "X1    0.067725\n",
       "X2    0.109873\n",
       "X3    0.073203\n",
       "X4    0.082473\n",
       "dtype: float64"
      ]
     },
     "execution_count": 57,
     "metadata": {},
     "output_type": "execute_result"
    }
   ],
   "source": [
    "match_result.not_adjusted_abs_diff_mean"
   ]
  },
  {
   "cell_type": "code",
   "execution_count": 58,
   "metadata": {
    "ExecuteTime": {
     "end_time": "2021-08-09T13:15:56.826090Z",
     "start_time": "2021-08-09T13:15:56.633899Z"
    }
   },
   "outputs": [
    {
     "data": {
      "image/png": "[encoded data removed]",
      "text/plain": [
       "<Figure size 432x288 with 1 Axes>"
      ]
     },
     "metadata": {
      "needs_background": "light"
     },
     "output_type": "display_data"
    }
   ],
   "source": [
    "ipw_result.compare_cov_mean_var()"
   ]
  },
  {
   "cell_type": "code",
   "execution_count": 60,
   "metadata": {
    "ExecuteTime": {
     "end_time": "2021-08-09T13:16:10.244580Z",
     "start_time": "2021-08-09T13:16:10.227133Z"
    }
   },
   "outputs": [
    {
     "data": {
      "text/plain": [
       "[0.002308954662107787,\n",
       " 0.008591891154899556,\n",
       " 0.00563774100286929,\n",
       " 0.012797635407783003]"
      ]
     },
     "execution_count": 60,
     "metadata": {},
     "output_type": "execute_result"
    }
   ],
   "source": [
    "ipw_result.adjusted_abs_diff_mean"
   ]
  },
  {
   "cell_type": "code",
   "execution_count": 61,
   "metadata": {
    "ExecuteTime": {
     "end_time": "2021-08-09T13:16:22.701434Z",
     "start_time": "2021-08-09T13:16:22.682833Z"
    }
   },
   "outputs": [
    {
     "data": {
      "text/plain": [
       "X1    0.067725\n",
       "X2    0.109873\n",
       "X3    0.073203\n",
       "X4    0.082473\n",
       "dtype: float64"
      ]
     },
     "execution_count": 61,
     "metadata": {},
     "output_type": "execute_result"
    }
   ],
   "source": [
    "ipw_result.not_adjusted_abs_diff_mean"
   ]
  },
  {
   "cell_type": "code",
   "execution_count": 69,
   "metadata": {
    "ExecuteTime": {
     "end_time": "2021-08-09T14:03:24.772389Z",
     "start_time": "2021-08-09T14:03:24.750626Z"
    }
   },
   "outputs": [
    {
     "name": "stdout",
     "output_type": "stream",
     "text": [
      "0.9443430492716649\n",
      "1.0875965016116478\n"
     ]
    }
   ],
   "source": [
    "print(match_result.get_effect())\n",
    "print(ipw_result.get_effect())"
   ]
  },
  {
   "cell_type": "code",
   "execution_count": 70,
   "metadata": {
    "ExecuteTime": {
     "end_time": "2021-08-09T14:18:38.331807Z",
     "start_time": "2021-08-09T14:18:38.318843Z"
    }
   },
   "outputs": [
    {
     "data": {
      "text/plain": [
       "1.792783777460865"
      ]
     },
     "execution_count": 70,
     "metadata": {},
     "output_type": "execute_result"
    }
   ],
   "source": [
    "np.mean(bias_rs_list)"
   ]
  },
  {
   "cell_type": "code",
   "execution_count": 71,
   "metadata": {
    "ExecuteTime": {
     "end_time": "2021-08-09T14:19:20.800951Z",
     "start_time": "2021-08-09T14:19:20.791654Z"
    }
   },
   "outputs": [
    {
     "data": {
      "text/plain": [
       "0.7834682764210192"
      ]
     },
     "execution_count": 71,
     "metadata": {},
     "output_type": "execute_result"
    }
   ],
   "source": [
    "np.mean(selection_bias_list)"
   ]
  },
  {
   "cell_type": "markdown",
   "metadata": {},
   "source": [
    "# 結果の保存"
   ]
  },
  {
   "cell_type": "code",
   "execution_count": 74,
   "metadata": {
    "ExecuteTime": {
     "end_time": "2021-08-09T14:25:28.580944Z",
     "start_time": "2021-08-09T14:25:28.565876Z"
    }
   },
   "outputs": [],
   "source": [
    "result_df = pd.DataFrame()\n",
    "result_df[\"result_include_bias\"] = bias_rs_list\n",
    "result_df[\"selection_bias\"] = selection_bias_list\n",
    "result_df[\"propensity_matching\"] = match_rs_list\n",
    "result_df[\"IPW\"] = ipw_rs_list\n",
    "result_df[\"kernel_matching\"] = kernel_rs_list"
   ]
  },
  {
   "cell_type": "code",
   "execution_count": 83,
   "metadata": {
    "ExecuteTime": {
     "end_time": "2021-08-09T14:30:21.033911Z",
     "start_time": "2021-08-09T14:30:21.018226Z"
    }
   },
   "outputs": [],
   "source": [
    "import datetime\n",
    "\n",
    "#実行日記録\n",
    "dt_now = datetime.datetime.now()\n",
    "run_dt = dt_now.strftime(\"%Y%m%d\")\n",
    "\n",
    "#csvで保存\n",
    "result_df.to_csv(run_dt+\"_result_df.csv\")"
   ]
  }
 ],
 "metadata": {
  "kernelspec": {
   "display_name": "Python 3",
   "language": "python",
   "name": "python3"
  },
  "language_info": {
   "codemirror_mode": {
    "name": "ipython",
    "version": 3
   },
   "file_extension": ".py",
   "mimetype": "text/x-python",
   "name": "python",
   "nbconvert_exporter": "python",
   "pygments_lexer": "ipython3",
   "version": "3.8.5"
  },
  "toc": {
   "base_numbering": 1,
   "nav_menu": {},
   "number_sections": true,
   "sideBar": true,
   "skip_h1_title": false,
   "title_cell": "Table of Contents",
   "title_sidebar": "Contents",
   "toc_cell": false,
   "toc_position": {},
   "toc_section_display": true,
   "toc_window_display": false
  }
 },
 "nbformat": 4,
 "nbformat_minor": 4
}
